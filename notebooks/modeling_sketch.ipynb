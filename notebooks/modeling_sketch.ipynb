{
 "cells": [
  {
   "cell_type": "code",
   "execution_count": 303,
   "metadata": {},
   "outputs": [],
   "source": [
    "import os\n",
    "import torch\n",
    "import warnings\n",
    "import numpy as np\n",
    "import pandas as pd\n",
    "from enum import Enum\n",
    "from torch import nn\n",
    "from torch.autograd import Variable\n",
    "from torch.utils.data import Dataset\n",
    "import torchvision.transforms as transforms\n",
    "warnings.simplefilter('ignore')"
   ]
  },
  {
   "cell_type": "code",
   "execution_count": 138,
   "metadata": {},
   "outputs": [],
   "source": [
    "### load title name entity tags and short hand token\n",
    "IMPROT_FILE = 'validData_Reduced.csv'\n",
    "ETET_GRAPHS = 'TemporalGraphData\\ETETGraphs'\n",
    "STANDARD_TITLE_FILES = ['tech_jobs.csv', 'non_tech_jobs.csv']\n",
    "IMPORT_PATH = ''\n",
    "START_YR, END_YR = 2009, 2022"
   ]
  },
  {
   "cell_type": "code",
   "execution_count": 150,
   "metadata": {},
   "outputs": [
    {
     "data": {
      "text/html": [
       "<div>\n",
       "<style scoped>\n",
       "    .dataframe tbody tr th:only-of-type {\n",
       "        vertical-align: middle;\n",
       "    }\n",
       "\n",
       "    .dataframe tbody tr th {\n",
       "        vertical-align: top;\n",
       "    }\n",
       "\n",
       "    .dataframe thead th {\n",
       "        text-align: right;\n",
       "    }\n",
       "</style>\n",
       "<table border=\"1\" class=\"dataframe\">\n",
       "  <thead>\n",
       "    <tr style=\"text-align: right;\">\n",
       "      <th></th>\n",
       "      <th>Year</th>\n",
       "      <th>Focal</th>\n",
       "      <th>Reference</th>\n",
       "      <th>Start_Year</th>\n",
       "      <th>Job_Index</th>\n",
       "      <th>TargetTitle</th>\n",
       "    </tr>\n",
       "  </thead>\n",
       "  <tbody>\n",
       "    <tr>\n",
       "      <th>0</th>\n",
       "      <td>2009</td>\n",
       "      <td>E10008</td>\n",
       "      <td>E19463</td>\n",
       "      <td>2008</td>\n",
       "      <td>1</td>\n",
       "      <td>T100</td>\n",
       "    </tr>\n",
       "    <tr>\n",
       "      <th>1</th>\n",
       "      <td>2009</td>\n",
       "      <td>E10008</td>\n",
       "      <td>E5490</td>\n",
       "      <td>2008</td>\n",
       "      <td>1</td>\n",
       "      <td>T101</td>\n",
       "    </tr>\n",
       "    <tr>\n",
       "      <th>2</th>\n",
       "      <td>2009</td>\n",
       "      <td>E10008</td>\n",
       "      <td>E14323</td>\n",
       "      <td>2008</td>\n",
       "      <td>1</td>\n",
       "      <td>T111</td>\n",
       "    </tr>\n",
       "  </tbody>\n",
       "</table>\n",
       "</div>"
      ],
      "text/plain": [
       "   Year   Focal Reference  Start_Year  Job_Index TargetTitle\n",
       "0  2009  E10008    E19463        2008          1        T100\n",
       "1  2009  E10008     E5490        2008          1        T101\n",
       "2  2009  E10008    E14323        2008          1        T111"
      ]
     },
     "execution_count": 150,
     "metadata": {},
     "output_type": "execute_result"
    }
   ],
   "source": [
    "### import stuffs\n",
    "z_raw = np.load(os.path.join(IMPORT_PATH, 'title_emb_matrix.npy'))\n",
    "path = os.path.join(IMPORT_PATH, ETET_GRAPHS)\n",
    "df_etet = pd.read_csv(os.path.join(path, 'AggregatedETET.csv'))\n",
    "df_etet.head(3)"
   ]
  },
  {
   "cell_type": "code",
   "execution_count": 140,
   "metadata": {},
   "outputs": [],
   "source": [
    "### data loader\n",
    "class CustomDataSet(Dataset):\n",
    "\n",
    "    def __init__(self, root_path, x_file, y_file, title_emb_dim=384, use_cuda=False):\n",
    "        self.dataset = torch.load(os.path.join(root_path, x_file),)\n",
    "        self.labels = torch.load(os.path.join(root_path, y_file))\n",
    "        self.title_emb_dim = title_emb_dim\n",
    "        if use_cuda:\n",
    "            self.dataset = self.dataset.cuda()\n",
    "            self.labels = self.labels.cuda()\n",
    "    \n",
    "    def __len__(self):\n",
    "        return len(self.dataset)\n",
    "    \n",
    "    def __getitem__(self, idx):\n",
    "        x, y = self.dataset[idx], self.labels[idx]\n",
    "        emp_id = x[:, 0]\n",
    "        num_exp = x[:, 1:2]\n",
    "        end_yr = x[:, 2:3]\n",
    "        job_idx = x[:, 3:4]\n",
    "        dur = x[:, 4:5]\n",
    "        div = x[:, 5:6]\n",
    "        t_emb = x[:, 6:]\n",
    "        return emp_id[0], num_exp[0], end_yr, job_idx, dur, div, t_emb, y[:, 0]"
   ]
  },
  {
   "cell_type": "code",
   "execution_count": 156,
   "metadata": {},
   "outputs": [],
   "source": [
    "### test\n",
    "import_path = os.path.join(IMPORT_PATH, 'TemporalGraphData\\TrainTestData')\n",
    "title_emb_dim = z_raw.shape[1]\n",
    "train_dataset = CustomDataSet(import_path, 'TRAIN_X.pt', 'TRAIN_Y.pt', title_emb_dim)\n",
    "train_dataloader = torch.utils.data.DataLoader(dataset=train_dataset, batch_size=1000, shuffle=True)"
   ]
  },
  {
   "cell_type": "code",
   "execution_count": 387,
   "metadata": {},
   "outputs": [],
   "source": [
    "z_raw_torch = torch.FloatTensor(z_raw)\n"
   ]
  },
  {
   "cell_type": "code",
   "execution_count": 247,
   "metadata": {},
   "outputs": [],
   "source": [
    "# get i-th batch\n",
    "batch_id = 1\n",
    "for i, (emp_id, num_exp, end_yr, job_idx, dur, div, t_emb, label) in enumerate(train_dataloader):\n",
    "    if i == batch_id:\n",
    "        num_exp_sq = num_exp.squeeze(-1).int()\n",
    "        end_yr_sq = end_yr.squeeze().int().numpy()\n",
    "        break"
   ]
  },
  {
   "cell_type": "code",
   "execution_count": 158,
   "metadata": {},
   "outputs": [],
   "source": [
    "class RNN_CELL_TYPE(Enum):\n",
    "    PLAIN = 1 # standard\n",
    "    TIME_AWARED = 2 # time-aware\n",
    "\n",
    "class LSTMCell(nn.Module):\n",
    "    def __init__(self, input_size, hidden_size):\n",
    "        super(LSTMCell, self).__init__()\n",
    "        self.input_size = input_size\n",
    "        self.hidden_size = hidden_size\n",
    "        # linear functionals\n",
    "        self.hh = nn.Linear(hidden_size, hidden_size * 4, bias=True)\n",
    "        self.xh = nn.Linear(input_size, hidden_size * 4, bias=False)\n",
    "        # reset\n",
    "        self.reset_parameters()\n",
    "\n",
    "    def reset_parameters(self):\n",
    "        std = 1.0 / np.sqrt(self.hidden_size)\n",
    "        for w in self.parameters():\n",
    "            w.data.uniform_(-std, std)\n",
    "\n",
    "    def forward(self, x, hidden=None):\n",
    "        # Input Dimensions:\n",
    "        # x:        (batch_size, input_size)\n",
    "        # hidden:   (batch_size, hidden_size)\n",
    "        # unfold hidden (hidden + memory)\n",
    "        if hidden is None:\n",
    "            hidden = Variable(x.new_zeros(x.size(0), self.hidden_size))\n",
    "            hidden = (hidden, hidden) \n",
    "        else:\n",
    "            hidden, memory = hidden\n",
    "\n",
    "        # execute all linear transformation\n",
    "        gates = self.xh(x) + self.hh(hidden)\n",
    "\n",
    "        # Get gates (i_t, f_t, g_t, o_t)\n",
    "        input_gate, forget_gate, cell_gate, output_gate = gates.chunk(4, 1)\n",
    "\n",
    "        # execute nonlinear transformation\n",
    "        i_t = torch.sigmoid(input_gate)\n",
    "        f_t = torch.sigmoid(forget_gate)\n",
    "        o_t = torch.sigmoid(output_gate)\n",
    "        candidate_t = torch.tanh(cell_gate)\n",
    "\n",
    "        # memory\n",
    "        memory_ = memory * f_t + i_t * candidate_t\n",
    "\n",
    "        # hidden\n",
    "        hidden_ = o_t * torch.tanh(memory_)\n",
    "\n",
    "        # Output Dimension:\n",
    "        # hidden_:        (batch_size, hidden_size)\n",
    "        # memory_:        (batch_size, hidden_size)\n",
    "        return (hidden_, memory_)"
   ]
  },
  {
   "cell_type": "code",
   "execution_count": 159,
   "metadata": {},
   "outputs": [],
   "source": [
    "'''\n",
    "ENCODER: LSTM\n",
    "'''\n",
    "class LSTM(nn.Module):\n",
    "    CELL_TYPE = {\n",
    "        RNN_CELL_TYPE.PLAIN : LSTMCell,\n",
    "    }\n",
    "\n",
    "    def __init__(self, input_size, hidden_size, num_layers, cell_type=RNN_CELL_TYPE.PLAIN):\n",
    "        super(LSTM, self).__init__()\n",
    "        ### TODO: EXTEND IT TO MULTIPLE LAYER (the pipeline is in place)\n",
    "        if num_layers > 1:\n",
    "            raise Exception('Only supports single layer LSTM')\n",
    "        \n",
    "        self.input_size = input_size\n",
    "        self.hidden_size = hidden_size\n",
    "        self.num_layers = num_layers\n",
    "        self.cell_type = cell_type\n",
    "        # allow multiple layers\n",
    "        self.rnn_cell_list = nn.ModuleList()\n",
    "        self.rnn_cell_list.append(LSTM.CELL_TYPE[self.cell_type](self.input_size, self.hidden_size))\n",
    "        for _ in range(1, self.num_layers):\n",
    "            self.rnn_cell_list.append(LSTM.CELL_TYPE[self.cell_type](self.hidden_size, self.hidden_size))\n",
    "\n",
    "    def forward(self, input, hidden=None):\n",
    "        \n",
    "        # Input Dimension: (batch_size, seqence_size , input_size)\n",
    "        input_ = input[0]\n",
    "        seq_len = input[1]\n",
    "        max_len = seq_len.max().int()\n",
    "\n",
    "        # in case there is no initial inputs\n",
    "        if hidden is None:\n",
    "            if torch.cuda.is_available():\n",
    "                h0 = Variable(torch.zeros(self.num_layers, input_.size(0), self.hidden_size).cuda())\n",
    "            else:\n",
    "                h0 = Variable(torch.zeros(self.num_layers, input_.size(0), self.hidden_size))\n",
    "        else:\n",
    "             h0 = hidden\n",
    "\n",
    "        # collectors\n",
    "        outs = torch.zeros(max_len, input_.shape[0], self.hidden_size)\n",
    "        # unrolling\n",
    "        hx = (h0[0, :, :], h0[0, :, :]) # h and c\n",
    "        for t in range(max_len):\n",
    "            hidden_l = self.rnn_cell_list[0](input_[:, t, :],  hx) if self.cell_type == RNN_CELL_TYPE.PLAIN \\\n",
    "                else self.rnn_cell_list[0]((input_[:, t, :], input[2][:, t, :]), hx)\n",
    "            # masking technique\n",
    "            mask = (t < seq_len).float().unsqueeze(1).expand_as(hidden_l[0])\n",
    "            h_next = hidden_l[0]*mask + hx[0]*(1 - mask)\n",
    "            c_next = hidden_l[1]*mask + hx[1]*(1 - mask)\n",
    "            hx_next = (h_next, c_next)\n",
    "            outs[t] = h_next\n",
    "            hx = hx_next\n",
    "            \n",
    "        return outs.permute(1, 0, 2)"
   ]
  },
  {
   "cell_type": "code",
   "execution_count": 160,
   "metadata": {},
   "outputs": [],
   "source": [
    "output_size = 128\n",
    "model = LSTM(title_emb_dim, output_size, 1)"
   ]
  },
  {
   "cell_type": "code",
   "execution_count": 161,
   "metadata": {},
   "outputs": [],
   "source": [
    "outputs = model((t_emb, num_exp_sq))"
   ]
  },
  {
   "cell_type": "code",
   "execution_count": 188,
   "metadata": {},
   "outputs": [
    {
     "data": {
      "text/html": [
       "<div>\n",
       "<style scoped>\n",
       "    .dataframe tbody tr th:only-of-type {\n",
       "        vertical-align: middle;\n",
       "    }\n",
       "\n",
       "    .dataframe tbody tr th {\n",
       "        vertical-align: top;\n",
       "    }\n",
       "\n",
       "    .dataframe thead th {\n",
       "        text-align: right;\n",
       "    }\n",
       "</style>\n",
       "<table border=\"1\" class=\"dataframe\">\n",
       "  <thead>\n",
       "    <tr style=\"text-align: right;\">\n",
       "      <th></th>\n",
       "      <th>Year</th>\n",
       "      <th>Focal</th>\n",
       "      <th>Reference</th>\n",
       "      <th>Start_Year</th>\n",
       "      <th>Job_Index</th>\n",
       "      <th>TargetTitle</th>\n",
       "    </tr>\n",
       "  </thead>\n",
       "  <tbody>\n",
       "    <tr>\n",
       "      <th>0</th>\n",
       "      <td>2009</td>\n",
       "      <td>E10008</td>\n",
       "      <td>E19463</td>\n",
       "      <td>2008</td>\n",
       "      <td>1</td>\n",
       "      <td>T100</td>\n",
       "    </tr>\n",
       "    <tr>\n",
       "      <th>1</th>\n",
       "      <td>2009</td>\n",
       "      <td>E10008</td>\n",
       "      <td>E5490</td>\n",
       "      <td>2008</td>\n",
       "      <td>1</td>\n",
       "      <td>T101</td>\n",
       "    </tr>\n",
       "    <tr>\n",
       "      <th>2</th>\n",
       "      <td>2009</td>\n",
       "      <td>E10008</td>\n",
       "      <td>E14323</td>\n",
       "      <td>2008</td>\n",
       "      <td>1</td>\n",
       "      <td>T111</td>\n",
       "    </tr>\n",
       "    <tr>\n",
       "      <th>3</th>\n",
       "      <td>2009</td>\n",
       "      <td>E10008</td>\n",
       "      <td>E5638</td>\n",
       "      <td>2008</td>\n",
       "      <td>1</td>\n",
       "      <td>T118</td>\n",
       "    </tr>\n",
       "    <tr>\n",
       "      <th>4</th>\n",
       "      <td>2009</td>\n",
       "      <td>E10008</td>\n",
       "      <td>E6113</td>\n",
       "      <td>2008</td>\n",
       "      <td>1</td>\n",
       "      <td>T127</td>\n",
       "    </tr>\n",
       "    <tr>\n",
       "      <th>...</th>\n",
       "      <td>...</td>\n",
       "      <td>...</td>\n",
       "      <td>...</td>\n",
       "      <td>...</td>\n",
       "      <td>...</td>\n",
       "      <td>...</td>\n",
       "    </tr>\n",
       "    <tr>\n",
       "      <th>516562</th>\n",
       "      <td>2011</td>\n",
       "      <td>E29834</td>\n",
       "      <td>E10891</td>\n",
       "      <td>2009</td>\n",
       "      <td>1</td>\n",
       "      <td>T499</td>\n",
       "    </tr>\n",
       "    <tr>\n",
       "      <th>516563</th>\n",
       "      <td>2011</td>\n",
       "      <td>E29834</td>\n",
       "      <td>E2881</td>\n",
       "      <td>2010</td>\n",
       "      <td>1</td>\n",
       "      <td>T50</td>\n",
       "    </tr>\n",
       "    <tr>\n",
       "      <th>516564</th>\n",
       "      <td>2011</td>\n",
       "      <td>E29834</td>\n",
       "      <td>E9307</td>\n",
       "      <td>2008</td>\n",
       "      <td>1</td>\n",
       "      <td>T504</td>\n",
       "    </tr>\n",
       "    <tr>\n",
       "      <th>516565</th>\n",
       "      <td>2011</td>\n",
       "      <td>E29834</td>\n",
       "      <td>E14200</td>\n",
       "      <td>2008</td>\n",
       "      <td>1</td>\n",
       "      <td>T54</td>\n",
       "    </tr>\n",
       "    <tr>\n",
       "      <th>516566</th>\n",
       "      <td>2011</td>\n",
       "      <td>E29834</td>\n",
       "      <td>E15142</td>\n",
       "      <td>2009</td>\n",
       "      <td>1</td>\n",
       "      <td>T57</td>\n",
       "    </tr>\n",
       "  </tbody>\n",
       "</table>\n",
       "<p>516567 rows × 6 columns</p>\n",
       "</div>"
      ],
      "text/plain": [
       "        Year   Focal Reference  Start_Year  Job_Index TargetTitle\n",
       "0       2009  E10008    E19463        2008          1        T100\n",
       "1       2009  E10008     E5490        2008          1        T101\n",
       "2       2009  E10008    E14323        2008          1        T111\n",
       "3       2009  E10008     E5638        2008          1        T118\n",
       "4       2009  E10008     E6113        2008          1        T127\n",
       "...      ...     ...       ...         ...        ...         ...\n",
       "516562  2011  E29834    E10891        2009          1        T499\n",
       "516563  2011  E29834     E2881        2010          1         T50\n",
       "516564  2011  E29834     E9307        2008          1        T504\n",
       "516565  2011  E29834    E14200        2008          1         T54\n",
       "516566  2011  E29834    E15142        2009          1         T57\n",
       "\n",
       "[516567 rows x 6 columns]"
      ]
     },
     "execution_count": 188,
     "metadata": {},
     "output_type": "execute_result"
    }
   ],
   "source": [
    "df_etet"
   ]
  },
  {
   "cell_type": "code",
   "execution_count": 304,
   "metadata": {},
   "outputs": [
    {
     "data": {
      "text/html": [
       "<div>\n",
       "<style scoped>\n",
       "    .dataframe tbody tr th:only-of-type {\n",
       "        vertical-align: middle;\n",
       "    }\n",
       "\n",
       "    .dataframe tbody tr th {\n",
       "        vertical-align: top;\n",
       "    }\n",
       "\n",
       "    .dataframe thead th {\n",
       "        text-align: right;\n",
       "    }\n",
       "</style>\n",
       "<table border=\"1\" class=\"dataframe\">\n",
       "  <thead>\n",
       "    <tr style=\"text-align: right;\">\n",
       "      <th></th>\n",
       "      <th>Year</th>\n",
       "      <th>Focal</th>\n",
       "      <th>Reference</th>\n",
       "      <th>Start_Year</th>\n",
       "      <th>Job_Index</th>\n",
       "      <th>TargetTitle</th>\n",
       "      <th>BatchPos</th>\n",
       "    </tr>\n",
       "  </thead>\n",
       "  <tbody>\n",
       "    <tr>\n",
       "      <th>349</th>\n",
       "      <td>2009</td>\n",
       "      <td>E10128</td>\n",
       "      <td>E10188</td>\n",
       "      <td>2008</td>\n",
       "      <td>1</td>\n",
       "      <td>T289</td>\n",
       "      <td>632</td>\n",
       "    </tr>\n",
       "    <tr>\n",
       "      <th>355</th>\n",
       "      <td>2009</td>\n",
       "      <td>E10128</td>\n",
       "      <td>E4516</td>\n",
       "      <td>2008</td>\n",
       "      <td>1</td>\n",
       "      <td>T32</td>\n",
       "      <td>324</td>\n",
       "    </tr>\n",
       "    <tr>\n",
       "      <th>585</th>\n",
       "      <td>2009</td>\n",
       "      <td>E10206</td>\n",
       "      <td>E10389</td>\n",
       "      <td>2008</td>\n",
       "      <td>1</td>\n",
       "      <td>T60</td>\n",
       "      <td>348</td>\n",
       "    </tr>\n",
       "    <tr>\n",
       "      <th>1660</th>\n",
       "      <td>2009</td>\n",
       "      <td>E10483</td>\n",
       "      <td>E10188</td>\n",
       "      <td>2008</td>\n",
       "      <td>1</td>\n",
       "      <td>T289</td>\n",
       "      <td>632</td>\n",
       "    </tr>\n",
       "    <tr>\n",
       "      <th>1666</th>\n",
       "      <td>2009</td>\n",
       "      <td>E10483</td>\n",
       "      <td>E4516</td>\n",
       "      <td>2008</td>\n",
       "      <td>1</td>\n",
       "      <td>T32</td>\n",
       "      <td>324</td>\n",
       "    </tr>\n",
       "    <tr>\n",
       "      <th>...</th>\n",
       "      <td>...</td>\n",
       "      <td>...</td>\n",
       "      <td>...</td>\n",
       "      <td>...</td>\n",
       "      <td>...</td>\n",
       "      <td>...</td>\n",
       "      <td>...</td>\n",
       "    </tr>\n",
       "    <tr>\n",
       "      <th>508718</th>\n",
       "      <td>2011</td>\n",
       "      <td>E29006</td>\n",
       "      <td>E23440</td>\n",
       "      <td>2008</td>\n",
       "      <td>1</td>\n",
       "      <td>T372</td>\n",
       "      <td>196</td>\n",
       "    </tr>\n",
       "    <tr>\n",
       "      <th>509812</th>\n",
       "      <td>2011</td>\n",
       "      <td>E29126</td>\n",
       "      <td>E10280</td>\n",
       "      <td>2010</td>\n",
       "      <td>1</td>\n",
       "      <td>T1</td>\n",
       "      <td>50</td>\n",
       "    </tr>\n",
       "    <tr>\n",
       "      <th>509821</th>\n",
       "      <td>2011</td>\n",
       "      <td>E29126</td>\n",
       "      <td>E12167</td>\n",
       "      <td>2008</td>\n",
       "      <td>1</td>\n",
       "      <td>T161</td>\n",
       "      <td>186</td>\n",
       "    </tr>\n",
       "    <tr>\n",
       "      <th>512877</th>\n",
       "      <td>2011</td>\n",
       "      <td>E29397</td>\n",
       "      <td>E3963</td>\n",
       "      <td>2010</td>\n",
       "      <td>1</td>\n",
       "      <td>T169</td>\n",
       "      <td>769</td>\n",
       "    </tr>\n",
       "    <tr>\n",
       "      <th>512889</th>\n",
       "      <td>2011</td>\n",
       "      <td>E29397</td>\n",
       "      <td>E15766</td>\n",
       "      <td>2009</td>\n",
       "      <td>1</td>\n",
       "      <td>T64</td>\n",
       "      <td>553</td>\n",
       "    </tr>\n",
       "  </tbody>\n",
       "</table>\n",
       "<p>750 rows × 7 columns</p>\n",
       "</div>"
      ],
      "text/plain": [
       "        Year   Focal Reference  Start_Year  Job_Index TargetTitle  BatchPos\n",
       "349     2009  E10128    E10188        2008          1        T289       632\n",
       "355     2009  E10128     E4516        2008          1         T32       324\n",
       "585     2009  E10206    E10389        2008          1         T60       348\n",
       "1660    2009  E10483    E10188        2008          1        T289       632\n",
       "1666    2009  E10483     E4516        2008          1         T32       324\n",
       "...      ...     ...       ...         ...        ...         ...       ...\n",
       "508718  2011  E29006    E23440        2008          1        T372       196\n",
       "509812  2011  E29126    E10280        2010          1          T1        50\n",
       "509821  2011  E29126    E12167        2008          1        T161       186\n",
       "512877  2011  E29397     E3963        2010          1        T169       769\n",
       "512889  2011  E29397    E15766        2009          1         T64       553\n",
       "\n",
       "[750 rows x 7 columns]"
      ]
     },
     "execution_count": 304,
     "metadata": {},
     "output_type": "execute_result"
    }
   ],
   "source": [
    "helper_dict = {'E' + str(int(id)) : idx for idx, id in enumerate(emp_id)}\n",
    "relevant = ['E' + str(id) for id in emp_id.int().numpy()]\n",
    "df_helper = df_etet[(df_etet.Focal.isin(relevant))&(df_etet.Reference.isin(relevant))]\n",
    "df_helper['BatchPos'] = df_helper.Reference.apply(lambda x: helper_dict[x])\n",
    "df_helper"
   ]
  },
  {
   "cell_type": "code",
   "execution_count": 272,
   "metadata": {},
   "outputs": [
    {
     "data": {
      "text/plain": [
       "1000"
      ]
     },
     "execution_count": 272,
     "metadata": {},
     "output_type": "execute_result"
    }
   ],
   "source": [
    "label.shape[0]"
   ]
  },
  {
   "cell_type": "code",
   "execution_count": null,
   "metadata": {},
   "outputs": [],
   "source": [
    "df_helper.groupby(['Focal'])"
   ]
  },
  {
   "cell_type": "code",
   "execution_count": 299,
   "metadata": {},
   "outputs": [
    {
     "data": {
      "text/html": [
       "<div>\n",
       "<style scoped>\n",
       "    .dataframe tbody tr th:only-of-type {\n",
       "        vertical-align: middle;\n",
       "    }\n",
       "\n",
       "    .dataframe tbody tr th {\n",
       "        vertical-align: top;\n",
       "    }\n",
       "\n",
       "    .dataframe thead th {\n",
       "        text-align: right;\n",
       "    }\n",
       "</style>\n",
       "<table border=\"1\" class=\"dataframe\">\n",
       "  <thead>\n",
       "    <tr style=\"text-align: right;\">\n",
       "      <th></th>\n",
       "      <th>Year</th>\n",
       "      <th>Focal</th>\n",
       "      <th>Reference</th>\n",
       "      <th>Start_Year</th>\n",
       "      <th>Job_Index</th>\n",
       "      <th>TargetTitle</th>\n",
       "      <th>BatchPos</th>\n",
       "    </tr>\n",
       "  </thead>\n",
       "  <tbody>\n",
       "    <tr>\n",
       "      <th>109618</th>\n",
       "      <td>2010</td>\n",
       "      <td>E13786</td>\n",
       "      <td>E11637</td>\n",
       "      <td>2009</td>\n",
       "      <td>2</td>\n",
       "      <td>T122</td>\n",
       "      <td>905</td>\n",
       "    </tr>\n",
       "    <tr>\n",
       "      <th>109619</th>\n",
       "      <td>2010</td>\n",
       "      <td>E13786</td>\n",
       "      <td>E2677</td>\n",
       "      <td>2008</td>\n",
       "      <td>1</td>\n",
       "      <td>T129</td>\n",
       "      <td>572</td>\n",
       "    </tr>\n",
       "    <tr>\n",
       "      <th>109621</th>\n",
       "      <td>2010</td>\n",
       "      <td>E13786</td>\n",
       "      <td>E6336</td>\n",
       "      <td>2009</td>\n",
       "      <td>2</td>\n",
       "      <td>T203</td>\n",
       "      <td>267</td>\n",
       "    </tr>\n",
       "    <tr>\n",
       "      <th>324050</th>\n",
       "      <td>2011</td>\n",
       "      <td>E13786</td>\n",
       "      <td>E16862</td>\n",
       "      <td>2010</td>\n",
       "      <td>2</td>\n",
       "      <td>T191</td>\n",
       "      <td>375</td>\n",
       "    </tr>\n",
       "    <tr>\n",
       "      <th>324054</th>\n",
       "      <td>2011</td>\n",
       "      <td>E13786</td>\n",
       "      <td>E11453</td>\n",
       "      <td>2010</td>\n",
       "      <td>2</td>\n",
       "      <td>T201</td>\n",
       "      <td>656</td>\n",
       "    </tr>\n",
       "    <tr>\n",
       "      <th>324065</th>\n",
       "      <td>2011</td>\n",
       "      <td>E13786</td>\n",
       "      <td>E11453</td>\n",
       "      <td>2009</td>\n",
       "      <td>1</td>\n",
       "      <td>T234</td>\n",
       "      <td>656</td>\n",
       "    </tr>\n",
       "    <tr>\n",
       "      <th>324070</th>\n",
       "      <td>2011</td>\n",
       "      <td>E13786</td>\n",
       "      <td>E14938</td>\n",
       "      <td>2010</td>\n",
       "      <td>2</td>\n",
       "      <td>T244</td>\n",
       "      <td>954</td>\n",
       "    </tr>\n",
       "    <tr>\n",
       "      <th>324097</th>\n",
       "      <td>2011</td>\n",
       "      <td>E13786</td>\n",
       "      <td>E20280</td>\n",
       "      <td>2009</td>\n",
       "      <td>1</td>\n",
       "      <td>T42</td>\n",
       "      <td>834</td>\n",
       "    </tr>\n",
       "    <tr>\n",
       "      <th>324100</th>\n",
       "      <td>2011</td>\n",
       "      <td>E13786</td>\n",
       "      <td>E22152</td>\n",
       "      <td>2010</td>\n",
       "      <td>1</td>\n",
       "      <td>T446</td>\n",
       "      <td>875</td>\n",
       "    </tr>\n",
       "    <tr>\n",
       "      <th>324110</th>\n",
       "      <td>2011</td>\n",
       "      <td>E13786</td>\n",
       "      <td>E14938</td>\n",
       "      <td>2008</td>\n",
       "      <td>1</td>\n",
       "      <td>T75</td>\n",
       "      <td>954</td>\n",
       "    </tr>\n",
       "    <tr>\n",
       "      <th>324111</th>\n",
       "      <td>2011</td>\n",
       "      <td>E13786</td>\n",
       "      <td>E16862</td>\n",
       "      <td>2008</td>\n",
       "      <td>1</td>\n",
       "      <td>T76</td>\n",
       "      <td>375</td>\n",
       "    </tr>\n",
       "  </tbody>\n",
       "</table>\n",
       "</div>"
      ],
      "text/plain": [
       "        Year   Focal Reference  Start_Year  Job_Index TargetTitle  BatchPos\n",
       "109618  2010  E13786    E11637        2009          2        T122       905\n",
       "109619  2010  E13786     E2677        2008          1        T129       572\n",
       "109621  2010  E13786     E6336        2009          2        T203       267\n",
       "324050  2011  E13786    E16862        2010          2        T191       375\n",
       "324054  2011  E13786    E11453        2010          2        T201       656\n",
       "324065  2011  E13786    E11453        2009          1        T234       656\n",
       "324070  2011  E13786    E14938        2010          2        T244       954\n",
       "324097  2011  E13786    E20280        2009          1         T42       834\n",
       "324100  2011  E13786    E22152        2010          1        T446       875\n",
       "324110  2011  E13786    E14938        2008          1         T75       954\n",
       "324111  2011  E13786    E16862        2008          1         T76       375"
      ]
     },
     "execution_count": 299,
     "metadata": {},
     "output_type": "execute_result"
    }
   ],
   "source": [
    "df_helper[(df_helper.Focal == focal_id)].Year"
   ]
  },
  {
   "cell_type": "code",
   "execution_count": 306,
   "metadata": {},
   "outputs": [
    {
     "data": {
      "text/html": [
       "<div>\n",
       "<style scoped>\n",
       "    .dataframe tbody tr th:only-of-type {\n",
       "        vertical-align: middle;\n",
       "    }\n",
       "\n",
       "    .dataframe tbody tr th {\n",
       "        vertical-align: top;\n",
       "    }\n",
       "\n",
       "    .dataframe thead th {\n",
       "        text-align: right;\n",
       "    }\n",
       "</style>\n",
       "<table border=\"1\" class=\"dataframe\">\n",
       "  <thead>\n",
       "    <tr style=\"text-align: right;\">\n",
       "      <th></th>\n",
       "      <th>Year</th>\n",
       "      <th>Focal</th>\n",
       "      <th>Reference</th>\n",
       "      <th>Start_Year</th>\n",
       "      <th>Job_Index</th>\n",
       "      <th>TargetTitle</th>\n",
       "      <th>BatchPos</th>\n",
       "    </tr>\n",
       "  </thead>\n",
       "  <tbody>\n",
       "    <tr>\n",
       "      <th>109618</th>\n",
       "      <td>2010</td>\n",
       "      <td>E13786</td>\n",
       "      <td>E11637</td>\n",
       "      <td>2009</td>\n",
       "      <td>2</td>\n",
       "      <td>T122</td>\n",
       "      <td>905</td>\n",
       "    </tr>\n",
       "    <tr>\n",
       "      <th>109619</th>\n",
       "      <td>2010</td>\n",
       "      <td>E13786</td>\n",
       "      <td>E2677</td>\n",
       "      <td>2008</td>\n",
       "      <td>1</td>\n",
       "      <td>T129</td>\n",
       "      <td>572</td>\n",
       "    </tr>\n",
       "    <tr>\n",
       "      <th>109621</th>\n",
       "      <td>2010</td>\n",
       "      <td>E13786</td>\n",
       "      <td>E6336</td>\n",
       "      <td>2009</td>\n",
       "      <td>2</td>\n",
       "      <td>T203</td>\n",
       "      <td>267</td>\n",
       "    </tr>\n",
       "    <tr>\n",
       "      <th>324050</th>\n",
       "      <td>2011</td>\n",
       "      <td>E13786</td>\n",
       "      <td>E16862</td>\n",
       "      <td>2010</td>\n",
       "      <td>2</td>\n",
       "      <td>T191</td>\n",
       "      <td>375</td>\n",
       "    </tr>\n",
       "    <tr>\n",
       "      <th>324054</th>\n",
       "      <td>2011</td>\n",
       "      <td>E13786</td>\n",
       "      <td>E11453</td>\n",
       "      <td>2010</td>\n",
       "      <td>2</td>\n",
       "      <td>T201</td>\n",
       "      <td>656</td>\n",
       "    </tr>\n",
       "    <tr>\n",
       "      <th>324065</th>\n",
       "      <td>2011</td>\n",
       "      <td>E13786</td>\n",
       "      <td>E11453</td>\n",
       "      <td>2009</td>\n",
       "      <td>1</td>\n",
       "      <td>T234</td>\n",
       "      <td>656</td>\n",
       "    </tr>\n",
       "    <tr>\n",
       "      <th>324070</th>\n",
       "      <td>2011</td>\n",
       "      <td>E13786</td>\n",
       "      <td>E14938</td>\n",
       "      <td>2010</td>\n",
       "      <td>2</td>\n",
       "      <td>T244</td>\n",
       "      <td>954</td>\n",
       "    </tr>\n",
       "    <tr>\n",
       "      <th>324097</th>\n",
       "      <td>2011</td>\n",
       "      <td>E13786</td>\n",
       "      <td>E20280</td>\n",
       "      <td>2009</td>\n",
       "      <td>1</td>\n",
       "      <td>T42</td>\n",
       "      <td>834</td>\n",
       "    </tr>\n",
       "    <tr>\n",
       "      <th>324100</th>\n",
       "      <td>2011</td>\n",
       "      <td>E13786</td>\n",
       "      <td>E22152</td>\n",
       "      <td>2010</td>\n",
       "      <td>1</td>\n",
       "      <td>T446</td>\n",
       "      <td>875</td>\n",
       "    </tr>\n",
       "    <tr>\n",
       "      <th>324110</th>\n",
       "      <td>2011</td>\n",
       "      <td>E13786</td>\n",
       "      <td>E14938</td>\n",
       "      <td>2008</td>\n",
       "      <td>1</td>\n",
       "      <td>T75</td>\n",
       "      <td>954</td>\n",
       "    </tr>\n",
       "    <tr>\n",
       "      <th>324111</th>\n",
       "      <td>2011</td>\n",
       "      <td>E13786</td>\n",
       "      <td>E16862</td>\n",
       "      <td>2008</td>\n",
       "      <td>1</td>\n",
       "      <td>T76</td>\n",
       "      <td>375</td>\n",
       "    </tr>\n",
       "  </tbody>\n",
       "</table>\n",
       "</div>"
      ],
      "text/plain": [
       "        Year   Focal Reference  Start_Year  Job_Index TargetTitle  BatchPos\n",
       "109618  2010  E13786    E11637        2009          2        T122       905\n",
       "109619  2010  E13786     E2677        2008          1        T129       572\n",
       "109621  2010  E13786     E6336        2009          2        T203       267\n",
       "324050  2011  E13786    E16862        2010          2        T191       375\n",
       "324054  2011  E13786    E11453        2010          2        T201       656\n",
       "324065  2011  E13786    E11453        2009          1        T234       656\n",
       "324070  2011  E13786    E14938        2010          2        T244       954\n",
       "324097  2011  E13786    E20280        2009          1         T42       834\n",
       "324100  2011  E13786    E22152        2010          1        T446       875\n",
       "324110  2011  E13786    E14938        2008          1         T75       954\n",
       "324111  2011  E13786    E16862        2008          1         T76       375"
      ]
     },
     "execution_count": 306,
     "metadata": {},
     "output_type": "execute_result"
    }
   ],
   "source": [
    "df_helper[(df_helper.Focal == focal_id)]"
   ]
  },
  {
   "cell_type": "code",
   "execution_count": 319,
   "metadata": {},
   "outputs": [
    {
     "data": {
      "text/plain": [
       "array([2009, 2010, 2011, 2012, 2016, 2017, 2020,    0,    0,    0])"
      ]
     },
     "execution_count": 319,
     "metadata": {},
     "output_type": "execute_result"
    }
   ],
   "source": [
    "end_yr_sq[i]"
   ]
  },
  {
   "cell_type": "code",
   "execution_count": 321,
   "metadata": {},
   "outputs": [
    {
     "data": {
      "text/plain": [
       "array([], dtype=int64)"
      ]
     },
     "execution_count": 321,
     "metadata": {},
     "output_type": "execute_result"
    }
   ],
   "source": []
  },
  {
   "cell_type": "code",
   "execution_count": 314,
   "metadata": {},
   "outputs": [
    {
     "ename": "ValueError",
     "evalue": "[2010, 2011] is not in list",
     "output_type": "error",
     "traceback": [
      "\u001b[1;31m---------------------------------------------------------------------------\u001b[0m",
      "\u001b[1;31mValueError\u001b[0m                                Traceback (most recent call last)",
      "\u001b[1;32m~\\AppData\\Local\\Temp\\ipykernel_18192\\1116140193.py\u001b[0m in \u001b[0;36m<module>\u001b[1;34m\u001b[0m\n\u001b[1;32m----> 1\u001b[1;33m \u001b[0mend_yr_sq\u001b[0m\u001b[1;33m[\u001b[0m\u001b[0mi\u001b[0m\u001b[1;33m]\u001b[0m\u001b[1;33m.\u001b[0m\u001b[0mtolist\u001b[0m\u001b[1;33m(\u001b[0m\u001b[1;33m)\u001b[0m\u001b[1;33m.\u001b[0m\u001b[0mindex\u001b[0m\u001b[1;33m(\u001b[0m\u001b[1;33m[\u001b[0m\u001b[1;36m2010\u001b[0m\u001b[1;33m,\u001b[0m \u001b[1;36m2011\u001b[0m\u001b[1;33m]\u001b[0m\u001b[1;33m)\u001b[0m\u001b[1;33m\u001b[0m\u001b[1;33m\u001b[0m\u001b[0m\n\u001b[0m",
      "\u001b[1;31mValueError\u001b[0m: [2010, 2011] is not in list"
     ]
    }
   ],
   "source": [
    "end_yr_sq[i].tolist().index([2010, 2011])"
   ]
  },
  {
   "cell_type": "code",
   "execution_count": 311,
   "metadata": {},
   "outputs": [
    {
     "data": {
      "text/plain": [
       "(array([1], dtype=int64),)"
      ]
     },
     "execution_count": 311,
     "metadata": {},
     "output_type": "execute_result"
    }
   ],
   "source": [
    "np.where(end_yr_sq[i] == 2010)"
   ]
  },
  {
   "cell_type": "code",
   "execution_count": 322,
   "metadata": {},
   "outputs": [
    {
     "data": {
      "text/html": [
       "<div>\n",
       "<style scoped>\n",
       "    .dataframe tbody tr th:only-of-type {\n",
       "        vertical-align: middle;\n",
       "    }\n",
       "\n",
       "    .dataframe tbody tr th {\n",
       "        vertical-align: top;\n",
       "    }\n",
       "\n",
       "    .dataframe thead th {\n",
       "        text-align: right;\n",
       "    }\n",
       "</style>\n",
       "<table border=\"1\" class=\"dataframe\">\n",
       "  <thead>\n",
       "    <tr style=\"text-align: right;\">\n",
       "      <th></th>\n",
       "      <th>Year</th>\n",
       "      <th>Focal</th>\n",
       "      <th>Reference</th>\n",
       "      <th>Start_Year</th>\n",
       "      <th>Job_Index</th>\n",
       "      <th>TargetTitle</th>\n",
       "      <th>BatchPos</th>\n",
       "    </tr>\n",
       "  </thead>\n",
       "  <tbody>\n",
       "    <tr>\n",
       "      <th>109618</th>\n",
       "      <td>2010</td>\n",
       "      <td>E13786</td>\n",
       "      <td>E11637</td>\n",
       "      <td>2009</td>\n",
       "      <td>2</td>\n",
       "      <td>T122</td>\n",
       "      <td>905</td>\n",
       "    </tr>\n",
       "    <tr>\n",
       "      <th>109619</th>\n",
       "      <td>2010</td>\n",
       "      <td>E13786</td>\n",
       "      <td>E2677</td>\n",
       "      <td>2008</td>\n",
       "      <td>1</td>\n",
       "      <td>T129</td>\n",
       "      <td>572</td>\n",
       "    </tr>\n",
       "    <tr>\n",
       "      <th>109621</th>\n",
       "      <td>2010</td>\n",
       "      <td>E13786</td>\n",
       "      <td>E6336</td>\n",
       "      <td>2009</td>\n",
       "      <td>2</td>\n",
       "      <td>T203</td>\n",
       "      <td>267</td>\n",
       "    </tr>\n",
       "    <tr>\n",
       "      <th>324050</th>\n",
       "      <td>2011</td>\n",
       "      <td>E13786</td>\n",
       "      <td>E16862</td>\n",
       "      <td>2010</td>\n",
       "      <td>2</td>\n",
       "      <td>T191</td>\n",
       "      <td>375</td>\n",
       "    </tr>\n",
       "    <tr>\n",
       "      <th>324054</th>\n",
       "      <td>2011</td>\n",
       "      <td>E13786</td>\n",
       "      <td>E11453</td>\n",
       "      <td>2010</td>\n",
       "      <td>2</td>\n",
       "      <td>T201</td>\n",
       "      <td>656</td>\n",
       "    </tr>\n",
       "    <tr>\n",
       "      <th>324065</th>\n",
       "      <td>2011</td>\n",
       "      <td>E13786</td>\n",
       "      <td>E11453</td>\n",
       "      <td>2009</td>\n",
       "      <td>1</td>\n",
       "      <td>T234</td>\n",
       "      <td>656</td>\n",
       "    </tr>\n",
       "    <tr>\n",
       "      <th>324070</th>\n",
       "      <td>2011</td>\n",
       "      <td>E13786</td>\n",
       "      <td>E14938</td>\n",
       "      <td>2010</td>\n",
       "      <td>2</td>\n",
       "      <td>T244</td>\n",
       "      <td>954</td>\n",
       "    </tr>\n",
       "    <tr>\n",
       "      <th>324097</th>\n",
       "      <td>2011</td>\n",
       "      <td>E13786</td>\n",
       "      <td>E20280</td>\n",
       "      <td>2009</td>\n",
       "      <td>1</td>\n",
       "      <td>T42</td>\n",
       "      <td>834</td>\n",
       "    </tr>\n",
       "    <tr>\n",
       "      <th>324100</th>\n",
       "      <td>2011</td>\n",
       "      <td>E13786</td>\n",
       "      <td>E22152</td>\n",
       "      <td>2010</td>\n",
       "      <td>1</td>\n",
       "      <td>T446</td>\n",
       "      <td>875</td>\n",
       "    </tr>\n",
       "    <tr>\n",
       "      <th>324110</th>\n",
       "      <td>2011</td>\n",
       "      <td>E13786</td>\n",
       "      <td>E14938</td>\n",
       "      <td>2008</td>\n",
       "      <td>1</td>\n",
       "      <td>T75</td>\n",
       "      <td>954</td>\n",
       "    </tr>\n",
       "    <tr>\n",
       "      <th>324111</th>\n",
       "      <td>2011</td>\n",
       "      <td>E13786</td>\n",
       "      <td>E16862</td>\n",
       "      <td>2008</td>\n",
       "      <td>1</td>\n",
       "      <td>T76</td>\n",
       "      <td>375</td>\n",
       "    </tr>\n",
       "  </tbody>\n",
       "</table>\n",
       "</div>"
      ],
      "text/plain": [
       "        Year   Focal Reference  Start_Year  Job_Index TargetTitle  BatchPos\n",
       "109618  2010  E13786    E11637        2009          2        T122       905\n",
       "109619  2010  E13786     E2677        2008          1        T129       572\n",
       "109621  2010  E13786     E6336        2009          2        T203       267\n",
       "324050  2011  E13786    E16862        2010          2        T191       375\n",
       "324054  2011  E13786    E11453        2010          2        T201       656\n",
       "324065  2011  E13786    E11453        2009          1        T234       656\n",
       "324070  2011  E13786    E14938        2010          2        T244       954\n",
       "324097  2011  E13786    E20280        2009          1         T42       834\n",
       "324100  2011  E13786    E22152        2010          1        T446       875\n",
       "324110  2011  E13786    E14938        2008          1         T75       954\n",
       "324111  2011  E13786    E16862        2008          1         T76       375"
      ]
     },
     "execution_count": 322,
     "metadata": {},
     "output_type": "execute_result"
    }
   ],
   "source": [
    "tmp_ref"
   ]
  },
  {
   "cell_type": "code",
   "execution_count": 338,
   "metadata": {},
   "outputs": [
    {
     "data": {
      "text/plain": [
       "array([2008, 2010, 2012, 2014,    0,    0,    0,    0,    0,    0])"
      ]
     },
     "execution_count": 338,
     "metadata": {},
     "output_type": "execute_result"
    }
   ],
   "source": [
    "end_yr_sq[i]"
   ]
  },
  {
   "cell_type": "code",
   "execution_count": 339,
   "metadata": {},
   "outputs": [
    {
     "data": {
      "text/plain": [
       "tensor([0.])"
      ]
     },
     "execution_count": 339,
     "metadata": {},
     "output_type": "execute_result"
    }
   ],
   "source": [
    "jidx"
   ]
  },
  {
   "cell_type": "code",
   "execution_count": 341,
   "metadata": {},
   "outputs": [],
   "source": [
    "for i in range(label.shape[0]):\n",
    "    focal_id = 'E' + str(int(emp_id[i]))\n",
    "    if focal_id == 'E13786':\n",
    "        break\n",
    "    tmp_ref = df_helper[(df_helper.Focal == focal_id)]\n",
    "    for yr in end_yr_sq[i]:\n",
    "        if yr == 0: break\n",
    "        focal_cur_yr = tmp_ref[tmp_ref.Year == yr]\n",
    "        if len(focal_cur_yr) == 0: continue\n",
    "        ref_embs = outputs[focal_cur_yr.BatchPos.values, focal_cur_yr.Job_Index.values]\n",
    "    \n",
    "    # for yr in end_yr[i]:\n",
    "        \n",
    "    #     print(yr)\n",
    "    #     break\n",
    "    # break\n",
    "    # tmp_ref = df_helper[df_helper.Focal == focal_id]\n",
    "    # break\n",
    "# focal_id"
   ]
  },
  {
   "cell_type": "code",
   "execution_count": 457,
   "metadata": {},
   "outputs": [
    {
     "data": {
      "text/plain": [
       "9"
      ]
     },
     "execution_count": 457,
     "metadata": {},
     "output_type": "execute_result"
    }
   ],
   "source": [
    "outputs.shape[1]"
   ]
  },
  {
   "cell_type": "code",
   "execution_count": null,
   "metadata": {},
   "outputs": [],
   "source": []
  },
  {
   "cell_type": "code",
   "execution_count": 454,
   "metadata": {},
   "outputs": [],
   "source": [
    "tmp_ref = df_helper[(df_helper.Focal == focal_id)]\n",
    "graph_concat = torch.zeros(outputs.shape[1], 384)\n",
    "for pos in range(outputs[i].shape[0]):\n",
    "    yr = end_yr_sq[i][pos]\n",
    "    if yr == 0:\n",
    "        graph_emb.append(torch.zeros(384))\n",
    "        continue\n",
    "    focal_cur_yr = tmp_ref[tmp_ref.Year == yr]\n",
    "    if len(focal_cur_yr) == 0:\n",
    "        graph_emb.append(torch.zeros(384))\n",
    "        continue\n",
    "    ref_embs = outputs[focal_cur_yr.BatchPos.values, focal_cur_yr.Job_Index.values]\n",
    "    focal_emb = outputs[i][pos]\n",
    "    raw_s = torch.inner(focal_emb.unsqueeze(0), ref_embs)\n",
    "    sim = (raw_s.exp() / raw_s.exp().sum())\n",
    "    ref_t_embs = z_raw_torch[[int(each.split('T')[1]) for each in focal_cur_yr.TargetTitle]]\n",
    "    graph_t_emb = torch.matmul(sim, ref_t_embs)\n",
    "    graph_emb.append(graph_t_emb.squeeze())"
   ]
  },
  {
   "cell_type": "code",
   "execution_count": 449,
   "metadata": {},
   "outputs": [
    {
     "data": {
      "text/plain": [
       "torch.Size([9, 128])"
      ]
     },
     "execution_count": 449,
     "metadata": {},
     "output_type": "execute_result"
    }
   ],
   "source": [
    "outputs[i].shape"
   ]
  },
  {
   "cell_type": "code",
   "execution_count": 455,
   "metadata": {},
   "outputs": [
    {
     "data": {
      "text/plain": [
       "9"
      ]
     },
     "execution_count": 455,
     "metadata": {},
     "output_type": "execute_result"
    }
   ],
   "source": [
    "len(graph_emb)"
   ]
  },
  {
   "cell_type": "code",
   "execution_count": 443,
   "metadata": {},
   "outputs": [
    {
     "ename": "ValueError",
     "evalue": "only one element tensors can be converted to Python scalars",
     "output_type": "error",
     "traceback": [
      "\u001b[1;31m---------------------------------------------------------------------------\u001b[0m",
      "\u001b[1;31mValueError\u001b[0m                                Traceback (most recent call last)",
      "\u001b[1;32m~\\AppData\\Local\\Temp\\ipykernel_18192\\2068277987.py\u001b[0m in \u001b[0;36m<module>\u001b[1;34m\u001b[0m\n\u001b[1;32m----> 1\u001b[1;33m \u001b[0mtorch\u001b[0m\u001b[1;33m.\u001b[0m\u001b[0mFloatTensor\u001b[0m\u001b[1;33m(\u001b[0m\u001b[0mgraph_emb\u001b[0m\u001b[1;33m)\u001b[0m\u001b[1;33m\u001b[0m\u001b[1;33m\u001b[0m\u001b[0m\n\u001b[0m",
      "\u001b[1;31mValueError\u001b[0m: only one element tensors can be converted to Python scalars"
     ]
    }
   ],
   "source": [
    "torch.(graph_emb)"
   ]
  },
  {
   "cell_type": "code",
   "execution_count": 430,
   "metadata": {},
   "outputs": [
    {
     "ename": "RuntimeError",
     "evalue": "Tensors must have same number of dimensions: got 1 and 2",
     "output_type": "error",
     "traceback": [
      "\u001b[1;31m---------------------------------------------------------------------------\u001b[0m",
      "\u001b[1;31mRuntimeError\u001b[0m                              Traceback (most recent call last)",
      "\u001b[1;32m~\\AppData\\Local\\Temp\\ipykernel_18192\\2548580013.py\u001b[0m in \u001b[0;36m<module>\u001b[1;34m\u001b[0m\n\u001b[1;32m----> 1\u001b[1;33m \u001b[0mtorch\u001b[0m\u001b[1;33m.\u001b[0m\u001b[0mconcat\u001b[0m\u001b[1;33m(\u001b[0m\u001b[1;33m[\u001b[0m\u001b[0mfocal_emb\u001b[0m\u001b[1;33m,\u001b[0m \u001b[0mgraph_t_emb\u001b[0m\u001b[1;33m]\u001b[0m\u001b[1;33m,\u001b[0m \u001b[0maxis\u001b[0m\u001b[1;33m=\u001b[0m\u001b[1;36m0\u001b[0m\u001b[1;33m)\u001b[0m\u001b[1;33m\u001b[0m\u001b[1;33m\u001b[0m\u001b[0m\n\u001b[0m",
      "\u001b[1;31mRuntimeError\u001b[0m: Tensors must have same number of dimensions: got 1 and 2"
     ]
    }
   ],
   "source": [
    "torch.concat([focal_emb, graph_t_emb], axis=0)"
   ]
  },
  {
   "cell_type": "code",
   "execution_count": 431,
   "metadata": {},
   "outputs": [
    {
     "data": {
      "text/plain": [
       "torch.Size([128])"
      ]
     },
     "execution_count": 431,
     "metadata": {},
     "output_type": "execute_result"
    }
   ],
   "source": [
    "focal_emb.shape"
   ]
  },
  {
   "cell_type": "code",
   "execution_count": 432,
   "metadata": {},
   "outputs": [
    {
     "data": {
      "text/plain": [
       "torch.Size([1, 384])"
      ]
     },
     "execution_count": 432,
     "metadata": {},
     "output_type": "execute_result"
    }
   ],
   "source": [
    "graph_t_emb.shape"
   ]
  },
  {
   "cell_type": "code",
   "execution_count": 392,
   "metadata": {},
   "outputs": [
    {
     "data": {
      "text/plain": [
       "torch.Size([3, 384])"
      ]
     },
     "execution_count": 392,
     "metadata": {},
     "output_type": "execute_result"
    }
   ],
   "source": [
    "ref_t_embs.shape"
   ]
  },
  {
   "cell_type": "code",
   "execution_count": 361,
   "metadata": {},
   "outputs": [
    {
     "data": {
      "text/html": [
       "<div>\n",
       "<style scoped>\n",
       "    .dataframe tbody tr th:only-of-type {\n",
       "        vertical-align: middle;\n",
       "    }\n",
       "\n",
       "    .dataframe tbody tr th {\n",
       "        vertical-align: top;\n",
       "    }\n",
       "\n",
       "    .dataframe thead th {\n",
       "        text-align: right;\n",
       "    }\n",
       "</style>\n",
       "<table border=\"1\" class=\"dataframe\">\n",
       "  <thead>\n",
       "    <tr style=\"text-align: right;\">\n",
       "      <th></th>\n",
       "      <th>Year</th>\n",
       "      <th>Focal</th>\n",
       "      <th>Reference</th>\n",
       "      <th>Start_Year</th>\n",
       "      <th>Job_Index</th>\n",
       "      <th>TargetTitle</th>\n",
       "      <th>BatchPos</th>\n",
       "    </tr>\n",
       "  </thead>\n",
       "  <tbody>\n",
       "    <tr>\n",
       "      <th>109618</th>\n",
       "      <td>2010</td>\n",
       "      <td>E13786</td>\n",
       "      <td>E11637</td>\n",
       "      <td>2009</td>\n",
       "      <td>2</td>\n",
       "      <td>T122</td>\n",
       "      <td>905</td>\n",
       "    </tr>\n",
       "    <tr>\n",
       "      <th>109619</th>\n",
       "      <td>2010</td>\n",
       "      <td>E13786</td>\n",
       "      <td>E2677</td>\n",
       "      <td>2008</td>\n",
       "      <td>1</td>\n",
       "      <td>T129</td>\n",
       "      <td>572</td>\n",
       "    </tr>\n",
       "    <tr>\n",
       "      <th>109621</th>\n",
       "      <td>2010</td>\n",
       "      <td>E13786</td>\n",
       "      <td>E6336</td>\n",
       "      <td>2009</td>\n",
       "      <td>2</td>\n",
       "      <td>T203</td>\n",
       "      <td>267</td>\n",
       "    </tr>\n",
       "  </tbody>\n",
       "</table>\n",
       "</div>"
      ],
      "text/plain": [
       "        Year   Focal Reference  Start_Year  Job_Index TargetTitle  BatchPos\n",
       "109618  2010  E13786    E11637        2009          2        T122       905\n",
       "109619  2010  E13786     E2677        2008          1        T129       572\n",
       "109621  2010  E13786     E6336        2009          2        T203       267"
      ]
     },
     "execution_count": 361,
     "metadata": {},
     "output_type": "execute_result"
    }
   ],
   "source": [
    "focal_cur_yr"
   ]
  },
  {
   "cell_type": "code",
   "execution_count": 360,
   "metadata": {},
   "outputs": [
    {
     "data": {
      "text/plain": [
       "torch.Size([3, 128])"
      ]
     },
     "execution_count": 360,
     "metadata": {},
     "output_type": "execute_result"
    }
   ],
   "source": [
    "ref_embs.shape"
   ]
  },
  {
   "cell_type": "code",
   "execution_count": 355,
   "metadata": {},
   "outputs": [
    {
     "data": {
      "text/plain": [
       "torch.Size([8, 128])"
      ]
     },
     "execution_count": 355,
     "metadata": {},
     "output_type": "execute_result"
    }
   ],
   "source": [
    "ref_embs.shape\n"
   ]
  },
  {
   "cell_type": "code",
   "execution_count": 330,
   "metadata": {},
   "outputs": [],
   "source": [
    "for jidx in job_idx[i]:\n",
    "    focal_cur_yr = tmp_ref[tmp_ref.Job_Index == jidx]\n",
    "    if len(focal_cur_yr) == 0: continue\n",
    "    ref_embs = outputs[focal_cur_yr.BatchPos.values, focal_cur_yr.Job_Index.values]\n",
    "    break"
   ]
  },
  {
   "cell_type": "code",
   "execution_count": 298,
   "metadata": {},
   "outputs": [
    {
     "data": {
      "text/plain": [
       "torch.Size([11, 128])"
      ]
     },
     "execution_count": 298,
     "metadata": {},
     "output_type": "execute_result"
    }
   ],
   "source": [
    "ref_embs.shape"
   ]
  },
  {
   "cell_type": "code",
   "execution_count": 279,
   "metadata": {},
   "outputs": [],
   "source": [
    "test_ref_emp_ids = [1, 2, 1]\n",
    "test_tar_title_ids = [1, 1, 2]\n",
    "test_data = np.array([\n",
    "    [0, 1, 2, 3],\n",
    "    [4, 5, 6, 7],\n",
    "    [8, 9, 10, 11],\n",
    "    [11, 12, 13, 14]    \n",
    "])"
   ]
  },
  {
   "cell_type": "code",
   "execution_count": 280,
   "metadata": {},
   "outputs": [
    {
     "data": {
      "text/plain": [
       "array([5, 9, 6])"
      ]
     },
     "execution_count": 280,
     "metadata": {},
     "output_type": "execute_result"
    }
   ],
   "source": [
    "test_data[test_ref_emp_ids, test_tar_title_ids]"
   ]
  },
  {
   "cell_type": "code",
   "execution_count": 294,
   "metadata": {},
   "outputs": [
    {
     "data": {
      "text/html": [
       "<div>\n",
       "<style scoped>\n",
       "    .dataframe tbody tr th:only-of-type {\n",
       "        vertical-align: middle;\n",
       "    }\n",
       "\n",
       "    .dataframe tbody tr th {\n",
       "        vertical-align: top;\n",
       "    }\n",
       "\n",
       "    .dataframe thead th {\n",
       "        text-align: right;\n",
       "    }\n",
       "</style>\n",
       "<table border=\"1\" class=\"dataframe\">\n",
       "  <thead>\n",
       "    <tr style=\"text-align: right;\">\n",
       "      <th></th>\n",
       "      <th>Focal</th>\n",
       "      <th>TargetTitle</th>\n",
       "    </tr>\n",
       "  </thead>\n",
       "  <tbody>\n",
       "    <tr>\n",
       "      <th>65</th>\n",
       "      <td>E13786</td>\n",
       "      <td>11</td>\n",
       "    </tr>\n",
       "  </tbody>\n",
       "</table>\n",
       "</div>"
      ],
      "text/plain": [
       "     Focal  TargetTitle\n",
       "65  E13786           11"
      ]
     },
     "execution_count": 294,
     "metadata": {},
     "output_type": "execute_result"
    }
   ],
   "source": [
    "tt = df_helper.groupby('Focal')[['TargetTitle']].count().reset_index()\n",
    "tt[tt.TargetTitle == 11]"
   ]
  },
  {
   "cell_type": "code",
   "execution_count": 266,
   "metadata": {},
   "outputs": [
    {
     "data": {
      "text/plain": [
       "tensor(23715.)"
      ]
     },
     "execution_count": 266,
     "metadata": {},
     "output_type": "execute_result"
    }
   ],
   "source": [
    "emp_id[9]"
   ]
  },
  {
   "cell_type": "code",
   "execution_count": 224,
   "metadata": {},
   "outputs": [
    {
     "data": {
      "text/plain": [
       "tensor(8707.)"
      ]
     },
     "execution_count": 224,
     "metadata": {},
     "output_type": "execute_result"
    }
   ],
   "source": [
    "emp_id[-1]"
   ]
  },
  {
   "cell_type": "code",
   "execution_count": 242,
   "metadata": {},
   "outputs": [
    {
     "data": {
      "text/plain": [
       "{0, 2011, 2012, 2013, 2014, 2020}"
      ]
     },
     "execution_count": 242,
     "metadata": {},
     "output_type": "execute_result"
    }
   ],
   "source": [
    "set()"
   ]
  },
  {
   "cell_type": "code",
   "execution_count": 256,
   "metadata": {},
   "outputs": [
    {
     "data": {
      "text/plain": [
       "445"
      ]
     },
     "execution_count": 256,
     "metadata": {},
     "output_type": "execute_result"
    }
   ],
   "source": [
    "helper_dict['E29397']"
   ]
  },
  {
   "cell_type": "code",
   "execution_count": 257,
   "metadata": {},
   "outputs": [
    {
     "data": {
      "text/plain": [
       "array([2011, 2020, 2021,    0,    0,    0,    0,    0,    0,    0])"
      ]
     },
     "execution_count": 257,
     "metadata": {},
     "output_type": "execute_result"
    }
   ],
   "source": [
    "end_yr_sq[445]"
   ]
  },
  {
   "cell_type": "code",
   "execution_count": 258,
   "metadata": {},
   "outputs": [
    {
     "data": {
      "text/html": [
       "<div>\n",
       "<style scoped>\n",
       "    .dataframe tbody tr th:only-of-type {\n",
       "        vertical-align: middle;\n",
       "    }\n",
       "\n",
       "    .dataframe tbody tr th {\n",
       "        vertical-align: top;\n",
       "    }\n",
       "\n",
       "    .dataframe thead th {\n",
       "        text-align: right;\n",
       "    }\n",
       "</style>\n",
       "<table border=\"1\" class=\"dataframe\">\n",
       "  <thead>\n",
       "    <tr style=\"text-align: right;\">\n",
       "      <th></th>\n",
       "      <th>Year</th>\n",
       "      <th>Focal</th>\n",
       "      <th>Reference</th>\n",
       "      <th>Start_Year</th>\n",
       "      <th>Job_Index</th>\n",
       "      <th>TargetTitle</th>\n",
       "      <th>BatchPos</th>\n",
       "    </tr>\n",
       "  </thead>\n",
       "  <tbody>\n",
       "    <tr>\n",
       "      <th>512877</th>\n",
       "      <td>2011</td>\n",
       "      <td>E29397</td>\n",
       "      <td>E3963</td>\n",
       "      <td>2010</td>\n",
       "      <td>1</td>\n",
       "      <td>T169</td>\n",
       "      <td>769</td>\n",
       "    </tr>\n",
       "    <tr>\n",
       "      <th>512889</th>\n",
       "      <td>2011</td>\n",
       "      <td>E29397</td>\n",
       "      <td>E15766</td>\n",
       "      <td>2009</td>\n",
       "      <td>1</td>\n",
       "      <td>T64</td>\n",
       "      <td>553</td>\n",
       "    </tr>\n",
       "  </tbody>\n",
       "</table>\n",
       "</div>"
      ],
      "text/plain": [
       "        Year   Focal Reference  Start_Year  Job_Index TargetTitle  BatchPos\n",
       "512877  2011  E29397     E3963        2010          1        T169       769\n",
       "512889  2011  E29397    E15766        2009          1         T64       553"
      ]
     },
     "execution_count": 258,
     "metadata": {},
     "output_type": "execute_result"
    }
   ],
   "source": [
    "yr_set = set(end_yr_sq[445])\n",
    "df_helper[(df_helper.Focal=='E29397')&(df_helper.Year.isin(yr_set))]"
   ]
  },
  {
   "cell_type": "code",
   "execution_count": 253,
   "metadata": {},
   "outputs": [
    {
     "data": {
      "text/html": [
       "<div>\n",
       "<style scoped>\n",
       "    .dataframe tbody tr th:only-of-type {\n",
       "        vertical-align: middle;\n",
       "    }\n",
       "\n",
       "    .dataframe tbody tr th {\n",
       "        vertical-align: top;\n",
       "    }\n",
       "\n",
       "    .dataframe thead th {\n",
       "        text-align: right;\n",
       "    }\n",
       "</style>\n",
       "<table border=\"1\" class=\"dataframe\">\n",
       "  <thead>\n",
       "    <tr style=\"text-align: right;\">\n",
       "      <th></th>\n",
       "      <th>Year</th>\n",
       "      <th>Focal</th>\n",
       "      <th>Reference</th>\n",
       "      <th>Start_Year</th>\n",
       "      <th>Job_Index</th>\n",
       "      <th>TargetTitle</th>\n",
       "      <th>BatchPos</th>\n",
       "    </tr>\n",
       "  </thead>\n",
       "  <tbody>\n",
       "    <tr>\n",
       "      <th>587</th>\n",
       "      <td>2009</td>\n",
       "      <td>E10207</td>\n",
       "      <td>E9630</td>\n",
       "      <td>2009</td>\n",
       "      <td>1</td>\n",
       "      <td>T105</td>\n",
       "      <td>833</td>\n",
       "    </tr>\n",
       "    <tr>\n",
       "      <th>773</th>\n",
       "      <td>2009</td>\n",
       "      <td>E10255</td>\n",
       "      <td>E10216</td>\n",
       "      <td>2008</td>\n",
       "      <td>1</td>\n",
       "      <td>T179</td>\n",
       "      <td>416</td>\n",
       "    </tr>\n",
       "    <tr>\n",
       "      <th>874</th>\n",
       "      <td>2009</td>\n",
       "      <td>E10320</td>\n",
       "      <td>E6824</td>\n",
       "      <td>2008</td>\n",
       "      <td>1</td>\n",
       "      <td>T105</td>\n",
       "      <td>965</td>\n",
       "    </tr>\n",
       "    <tr>\n",
       "      <th>885</th>\n",
       "      <td>2009</td>\n",
       "      <td>E10320</td>\n",
       "      <td>E2553</td>\n",
       "      <td>2009</td>\n",
       "      <td>1</td>\n",
       "      <td>T250</td>\n",
       "      <td>139</td>\n",
       "    </tr>\n",
       "    <tr>\n",
       "      <th>3064</th>\n",
       "      <td>2009</td>\n",
       "      <td>E10852</td>\n",
       "      <td>E12325</td>\n",
       "      <td>2008</td>\n",
       "      <td>1</td>\n",
       "      <td>T127</td>\n",
       "      <td>972</td>\n",
       "    </tr>\n",
       "    <tr>\n",
       "      <th>...</th>\n",
       "      <td>...</td>\n",
       "      <td>...</td>\n",
       "      <td>...</td>\n",
       "      <td>...</td>\n",
       "      <td>...</td>\n",
       "      <td>...</td>\n",
       "      <td>...</td>\n",
       "    </tr>\n",
       "    <tr>\n",
       "      <th>511333</th>\n",
       "      <td>2011</td>\n",
       "      <td>E29230</td>\n",
       "      <td>E8922</td>\n",
       "      <td>2008</td>\n",
       "      <td>1</td>\n",
       "      <td>T220</td>\n",
       "      <td>608</td>\n",
       "    </tr>\n",
       "    <tr>\n",
       "      <th>512549</th>\n",
       "      <td>2011</td>\n",
       "      <td>E29354</td>\n",
       "      <td>E6824</td>\n",
       "      <td>2008</td>\n",
       "      <td>1</td>\n",
       "      <td>T105</td>\n",
       "      <td>965</td>\n",
       "    </tr>\n",
       "    <tr>\n",
       "      <th>512556</th>\n",
       "      <td>2011</td>\n",
       "      <td>E29354</td>\n",
       "      <td>E6460</td>\n",
       "      <td>2010</td>\n",
       "      <td>2</td>\n",
       "      <td>T135</td>\n",
       "      <td>408</td>\n",
       "    </tr>\n",
       "    <tr>\n",
       "      <th>512574</th>\n",
       "      <td>2011</td>\n",
       "      <td>E29354</td>\n",
       "      <td>E2553</td>\n",
       "      <td>2009</td>\n",
       "      <td>1</td>\n",
       "      <td>T250</td>\n",
       "      <td>139</td>\n",
       "    </tr>\n",
       "    <tr>\n",
       "      <th>512589</th>\n",
       "      <td>2011</td>\n",
       "      <td>E29354</td>\n",
       "      <td>E16882</td>\n",
       "      <td>2011</td>\n",
       "      <td>1</td>\n",
       "      <td>T421</td>\n",
       "      <td>810</td>\n",
       "    </tr>\n",
       "  </tbody>\n",
       "</table>\n",
       "<p>946 rows × 7 columns</p>\n",
       "</div>"
      ],
      "text/plain": [
       "        Year   Focal Reference  Start_Year  Job_Index TargetTitle  BatchPos\n",
       "587     2009  E10207     E9630        2009          1        T105       833\n",
       "773     2009  E10255    E10216        2008          1        T179       416\n",
       "874     2009  E10320     E6824        2008          1        T105       965\n",
       "885     2009  E10320     E2553        2009          1        T250       139\n",
       "3064    2009  E10852    E12325        2008          1        T127       972\n",
       "...      ...     ...       ...         ...        ...         ...       ...\n",
       "511333  2011  E29230     E8922        2008          1        T220       608\n",
       "512549  2011  E29354     E6824        2008          1        T105       965\n",
       "512556  2011  E29354     E6460        2010          2        T135       408\n",
       "512574  2011  E29354     E2553        2009          1        T250       139\n",
       "512589  2011  E29354    E16882        2011          1        T421       810\n",
       "\n",
       "[946 rows x 7 columns]"
      ]
     },
     "execution_count": 253,
     "metadata": {},
     "output_type": "execute_result"
    }
   ],
   "source": [
    "df_helper"
   ]
  },
  {
   "cell_type": "code",
   "execution_count": 210,
   "metadata": {},
   "outputs": [
    {
     "data": {
      "text/html": [
       "<div>\n",
       "<style scoped>\n",
       "    .dataframe tbody tr th:only-of-type {\n",
       "        vertical-align: middle;\n",
       "    }\n",
       "\n",
       "    .dataframe tbody tr th {\n",
       "        vertical-align: top;\n",
       "    }\n",
       "\n",
       "    .dataframe thead th {\n",
       "        text-align: right;\n",
       "    }\n",
       "</style>\n",
       "<table border=\"1\" class=\"dataframe\">\n",
       "  <thead>\n",
       "    <tr style=\"text-align: right;\">\n",
       "      <th></th>\n",
       "      <th>Year</th>\n",
       "      <th>Focal</th>\n",
       "      <th>Reference</th>\n",
       "      <th>Start_Year</th>\n",
       "      <th>Job_Index</th>\n",
       "      <th>TargetTitle</th>\n",
       "      <th>BatchPos</th>\n",
       "    </tr>\n",
       "  </thead>\n",
       "  <tbody>\n",
       "  </tbody>\n",
       "</table>\n",
       "</div>"
      ],
      "text/plain": [
       "Empty DataFrame\n",
       "Columns: [Year, Focal, Reference, Start_Year, Job_Index, TargetTitle, BatchPos]\n",
       "Index: []"
      ]
     },
     "execution_count": 210,
     "metadata": {},
     "output_type": "execute_result"
    }
   ],
   "source": [
    "tmp_ref"
   ]
  },
  {
   "cell_type": "code",
   "execution_count": 201,
   "metadata": {},
   "outputs": [
    {
     "data": {
      "text/html": [
       "<div>\n",
       "<style scoped>\n",
       "    .dataframe tbody tr th:only-of-type {\n",
       "        vertical-align: middle;\n",
       "    }\n",
       "\n",
       "    .dataframe tbody tr th {\n",
       "        vertical-align: top;\n",
       "    }\n",
       "\n",
       "    .dataframe thead th {\n",
       "        text-align: right;\n",
       "    }\n",
       "</style>\n",
       "<table border=\"1\" class=\"dataframe\">\n",
       "  <thead>\n",
       "    <tr style=\"text-align: right;\">\n",
       "      <th></th>\n",
       "      <th>Year</th>\n",
       "      <th>Focal</th>\n",
       "      <th>Reference</th>\n",
       "      <th>Start_Year</th>\n",
       "      <th>Job_Index</th>\n",
       "      <th>TargetTitle</th>\n",
       "      <th>BatchPos</th>\n",
       "    </tr>\n",
       "  </thead>\n",
       "  <tbody>\n",
       "  </tbody>\n",
       "</table>\n",
       "</div>"
      ],
      "text/plain": [
       "Empty DataFrame\n",
       "Columns: [Year, Focal, Reference, Start_Year, Job_Index, TargetTitle, BatchPos]\n",
       "Index: []"
      ]
     },
     "execution_count": 201,
     "metadata": {},
     "output_type": "execute_result"
    }
   ],
   "source": [
    "tmp_ref"
   ]
  },
  {
   "cell_type": "code",
   "execution_count": 186,
   "metadata": {},
   "outputs": [
    {
     "data": {
      "text/html": [
       "<div>\n",
       "<style scoped>\n",
       "    .dataframe tbody tr th:only-of-type {\n",
       "        vertical-align: middle;\n",
       "    }\n",
       "\n",
       "    .dataframe tbody tr th {\n",
       "        vertical-align: top;\n",
       "    }\n",
       "\n",
       "    .dataframe thead th {\n",
       "        text-align: right;\n",
       "    }\n",
       "</style>\n",
       "<table border=\"1\" class=\"dataframe\">\n",
       "  <thead>\n",
       "    <tr style=\"text-align: right;\">\n",
       "      <th></th>\n",
       "      <th>Year</th>\n",
       "      <th>Focal</th>\n",
       "      <th>Reference</th>\n",
       "      <th>Start_Year</th>\n",
       "      <th>Job_Index</th>\n",
       "      <th>TargetTitle</th>\n",
       "      <th>BatchPos</th>\n",
       "    </tr>\n",
       "  </thead>\n",
       "  <tbody>\n",
       "    <tr>\n",
       "      <th>512549</th>\n",
       "      <td>2011</td>\n",
       "      <td>E29354</td>\n",
       "      <td>E6824</td>\n",
       "      <td>2008</td>\n",
       "      <td>1</td>\n",
       "      <td>T105</td>\n",
       "      <td>965</td>\n",
       "    </tr>\n",
       "    <tr>\n",
       "      <th>512556</th>\n",
       "      <td>2011</td>\n",
       "      <td>E29354</td>\n",
       "      <td>E6460</td>\n",
       "      <td>2010</td>\n",
       "      <td>2</td>\n",
       "      <td>T135</td>\n",
       "      <td>408</td>\n",
       "    </tr>\n",
       "    <tr>\n",
       "      <th>512574</th>\n",
       "      <td>2011</td>\n",
       "      <td>E29354</td>\n",
       "      <td>E2553</td>\n",
       "      <td>2009</td>\n",
       "      <td>1</td>\n",
       "      <td>T250</td>\n",
       "      <td>139</td>\n",
       "    </tr>\n",
       "    <tr>\n",
       "      <th>512589</th>\n",
       "      <td>2011</td>\n",
       "      <td>E29354</td>\n",
       "      <td>E16882</td>\n",
       "      <td>2011</td>\n",
       "      <td>1</td>\n",
       "      <td>T421</td>\n",
       "      <td>810</td>\n",
       "    </tr>\n",
       "  </tbody>\n",
       "</table>\n",
       "</div>"
      ],
      "text/plain": [
       "        Year   Focal Reference  Start_Year  Job_Index TargetTitle  BatchPos\n",
       "512549  2011  E29354     E6824        2008          1        T105       965\n",
       "512556  2011  E29354     E6460        2010          2        T135       408\n",
       "512574  2011  E29354     E2553        2009          1        T250       139\n",
       "512589  2011  E29354    E16882        2011          1        T421       810"
      ]
     },
     "execution_count": 186,
     "metadata": {},
     "output_type": "execute_result"
    }
   ],
   "source": [
    "\n",
    "for focal_id in df_helper.Focal.unique():\n",
    "    tmp_ref = df_helper[df_helper.Focal == focal_id]\n",
    "    ref_embs = outputs[tmp_ref.BatchPos.values, tmp_ref.Job_Index.values]\n",
    "\n",
    "tmp_ref"
   ]
  },
  {
   "cell_type": "code",
   "execution_count": null,
   "metadata": {},
   "outputs": [],
   "source": []
  },
  {
   "cell_type": "code",
   "execution_count": 187,
   "metadata": {},
   "outputs": [
    {
     "data": {
      "text/plain": [
       "tensor([[-0.0379,  0.0240, -0.0364,  0.0098,  0.0219,  0.0020, -0.0192,  0.0147,\n",
       "          0.0516, -0.0213, -0.0233,  0.0261, -0.0021, -0.0033, -0.0068, -0.0100,\n",
       "          0.0020, -0.0012,  0.0344,  0.0472, -0.0120,  0.0240,  0.0180, -0.0213,\n",
       "          0.0050, -0.0110,  0.0327,  0.0136, -0.0019, -0.0107,  0.0235, -0.0480,\n",
       "         -0.0447, -0.0086,  0.0063,  0.0105, -0.0256,  0.0500,  0.0034,  0.0608,\n",
       "         -0.0086, -0.0462, -0.0396, -0.0077,  0.0395,  0.0062,  0.0187, -0.0490,\n",
       "          0.0110, -0.0200, -0.0228,  0.0020,  0.0319, -0.0365, -0.0190,  0.0151,\n",
       "         -0.0112, -0.0254, -0.0056,  0.0158,  0.0043, -0.0199,  0.0220,  0.0413,\n",
       "          0.0197,  0.0077, -0.0063,  0.0548,  0.0053,  0.0233, -0.0001, -0.0298,\n",
       "         -0.0321, -0.0243,  0.0216, -0.0013, -0.0233,  0.0016, -0.0298, -0.0191,\n",
       "          0.0207, -0.0079,  0.0002,  0.0027, -0.0274, -0.0126, -0.0087, -0.0103,\n",
       "          0.0271,  0.0200,  0.0238,  0.0187,  0.0048, -0.0053, -0.0027, -0.0253,\n",
       "          0.0166, -0.0083, -0.0077, -0.0126,  0.0549,  0.0119,  0.0273, -0.0051,\n",
       "          0.0502,  0.0369, -0.0165, -0.0092,  0.0186,  0.0103,  0.0142, -0.0058,\n",
       "          0.0264, -0.0078, -0.0116,  0.0322,  0.0053,  0.0145, -0.0035,  0.0312,\n",
       "          0.0392, -0.0335,  0.0097,  0.0091,  0.0097,  0.0020,  0.0272,  0.0024],\n",
       "        [-0.0286,  0.0300, -0.0570, -0.0004,  0.0555, -0.0152, -0.0254,  0.0131,\n",
       "          0.0496, -0.0239, -0.0388,  0.0195,  0.0060, -0.0148, -0.0146,  0.0031,\n",
       "         -0.0020, -0.0172,  0.0329,  0.0653, -0.0075,  0.0321,  0.0189, -0.0274,\n",
       "          0.0036, -0.0222,  0.0142, -0.0140, -0.0071,  0.0092, -0.0115, -0.0706,\n",
       "         -0.0525, -0.0031,  0.0035,  0.0022, -0.0485,  0.0528,  0.0022,  0.0432,\n",
       "          0.0028, -0.0398, -0.0268, -0.0117,  0.0304,  0.0057, -0.0087, -0.0682,\n",
       "          0.0225, -0.0230,  0.0241,  0.0186,  0.0401, -0.0181, -0.0100,  0.0191,\n",
       "         -0.0442, -0.0293,  0.0112,  0.0128,  0.0226, -0.0381,  0.0318,  0.0579,\n",
       "          0.0226,  0.0121,  0.0104,  0.0530,  0.0233,  0.0423,  0.0150, -0.0372,\n",
       "         -0.0090, -0.0222,  0.0506,  0.0189, -0.0056, -0.0064, -0.0394, -0.0156,\n",
       "          0.0347,  0.0003,  0.0054,  0.0167, -0.0348, -0.0185, -0.0132, -0.0172,\n",
       "          0.0245,  0.0231,  0.0347,  0.0163,  0.0013, -0.0107,  0.0362, -0.0275,\n",
       "         -0.0090, -0.0034, -0.0041, -0.0174,  0.0666,  0.0171,  0.0216,  0.0163,\n",
       "          0.0518,  0.0459, -0.0124, -0.0150,  0.0180,  0.0008, -0.0083,  0.0054,\n",
       "          0.0328, -0.0223, -0.0045,  0.0209,  0.0206,  0.0153,  0.0201,  0.0464,\n",
       "          0.0665, -0.0323, -0.0067,  0.0198,  0.0095, -0.0018,  0.0485,  0.0217],\n",
       "        [-0.0302,  0.0026, -0.0454,  0.0023,  0.0336,  0.0158, -0.0195, -0.0190,\n",
       "          0.0584, -0.0189, -0.0273,  0.0057, -0.0044, -0.0195, -0.0272, -0.0149,\n",
       "          0.0058, -0.0108,  0.0200,  0.0398, -0.0054,  0.0283,  0.0175, -0.0220,\n",
       "         -0.0051, -0.0231,  0.0378, -0.0161, -0.0010,  0.0105, -0.0137, -0.0362,\n",
       "         -0.0490, -0.0149,  0.0021, -0.0013, -0.0266,  0.0372, -0.0197,  0.0367,\n",
       "          0.0157, -0.0217, -0.0105, -0.0050,  0.0341,  0.0085,  0.0020, -0.0521,\n",
       "         -0.0010, -0.0119,  0.0289,  0.0267,  0.0277,  0.0050,  0.0032,  0.0131,\n",
       "         -0.0278, -0.0288,  0.0060,  0.0170,  0.0094, -0.0266,  0.0323,  0.0462,\n",
       "          0.0232,  0.0114, -0.0148,  0.0508,  0.0190,  0.0410,  0.0010, -0.0421,\n",
       "         -0.0164, -0.0109,  0.0311,  0.0165, -0.0217, -0.0134, -0.0441, -0.0113,\n",
       "          0.0487, -0.0072,  0.0093,  0.0223, -0.0352, -0.0210, -0.0172, -0.0146,\n",
       "          0.0328,  0.0352,  0.0327,  0.0037, -0.0071,  0.0260,  0.0360, -0.0134,\n",
       "         -0.0207, -0.0184, -0.0084, -0.0203,  0.0473,  0.0140,  0.0370,  0.0127,\n",
       "          0.0369,  0.0435, -0.0104, -0.0047,  0.0202,  0.0192, -0.0082, -0.0017,\n",
       "          0.0290, -0.0287,  0.0094, -0.0039,  0.0175,  0.0210,  0.0097,  0.0334,\n",
       "          0.0659, -0.0245,  0.0108,  0.0153,  0.0083,  0.0090,  0.0537,  0.0161],\n",
       "        [-0.0378,  0.0275, -0.0423,  0.0143,  0.0164,  0.0120, -0.0348,  0.0196,\n",
       "          0.0609, -0.0272, -0.0216,  0.0208, -0.0061,  0.0083, -0.0042, -0.0072,\n",
       "          0.0053,  0.0146,  0.0233,  0.0412, -0.0057,  0.0145,  0.0217, -0.0256,\n",
       "          0.0063, -0.0064,  0.0273,  0.0194,  0.0014, -0.0108,  0.0220, -0.0401,\n",
       "         -0.0376, -0.0202,  0.0093,  0.0088, -0.0219,  0.0410, -0.0040,  0.0569,\n",
       "         -0.0246, -0.0628, -0.0332,  0.0006,  0.0271,  0.0028,  0.0079, -0.0475,\n",
       "          0.0142, -0.0205, -0.0224, -0.0014,  0.0392, -0.0381, -0.0155,  0.0169,\n",
       "         -0.0128, -0.0291, -0.0083,  0.0224,  0.0075, -0.0176,  0.0238,  0.0454,\n",
       "          0.0375,  0.0044, -0.0127,  0.0608,  0.0121,  0.0181,  0.0010, -0.0277,\n",
       "         -0.0296, -0.0009,  0.0355, -0.0096, -0.0290, -0.0020, -0.0236, -0.0217,\n",
       "          0.0131, -0.0166, -0.0062,  0.0137, -0.0255, -0.0078, -0.0213, -0.0084,\n",
       "          0.0210,  0.0231,  0.0215,  0.0225, -0.0003, -0.0107,  0.0014, -0.0294,\n",
       "          0.0128, -0.0058, -0.0041, -0.0161,  0.0521,  0.0112,  0.0369,  0.0002,\n",
       "          0.0505,  0.0328, -0.0168, -0.0105,  0.0073,  0.0169,  0.0231, -0.0058,\n",
       "          0.0174, -0.0046, -0.0110,  0.0336,  0.0050,  0.0160, -0.0155,  0.0370,\n",
       "          0.0447, -0.0334,  0.0128,  0.0183,  0.0068, -0.0011,  0.0283, -0.0052]],\n",
       "       grad_fn=<IndexBackward0>)"
      ]
     },
     "execution_count": 187,
     "metadata": {},
     "output_type": "execute_result"
    }
   ],
   "source": [
    "ref_embs"
   ]
  },
  {
   "cell_type": "code",
   "execution_count": 181,
   "metadata": {},
   "outputs": [
    {
     "data": {
      "text/plain": [
       "Year            2009\n",
       "Reference      E9630\n",
       "Start_Year      2009\n",
       "Job_Index          1\n",
       "TargetTitle     T105\n",
       "BatchPos         833\n",
       "Name: E10207, dtype: object"
      ]
     },
     "execution_count": 181,
     "metadata": {},
     "output_type": "execute_result"
    }
   ],
   "source": [
    "tmp_ref"
   ]
  },
  {
   "cell_type": "code",
   "execution_count": 179,
   "metadata": {},
   "outputs": [
    {
     "data": {
      "text/plain": [
       "torch.Size([4, 128])"
      ]
     },
     "execution_count": 179,
     "metadata": {},
     "output_type": "execute_result"
    }
   ],
   "source": [
    "\n",
    "ref_embs.shape"
   ]
  },
  {
   "cell_type": "code",
   "execution_count": 154,
   "metadata": {},
   "outputs": [
    {
     "name": "stdout",
     "output_type": "stream",
     "text": [
      "E18510\n",
      "E3546\n",
      "E5131\n",
      "E9546\n",
      "E5131\n",
      "E10520\n",
      "E11161\n",
      "E11889\n",
      "E11971\n",
      "E18809\n",
      "E19953\n",
      "E23949\n",
      "E25753\n",
      "E28955\n"
     ]
    }
   ],
   "source": [
    "for idx, row in df_helper.iterrows():\n",
    "    print(idx)\n",
    "    "
   ]
  },
  {
   "cell_type": "code",
   "execution_count": 152,
   "metadata": {},
   "outputs": [
    {
     "ename": "KeyError",
     "evalue": "'E24619'",
     "output_type": "error",
     "traceback": [
      "\u001b[1;31m---------------------------------------------------------------------------\u001b[0m",
      "\u001b[1;31mKeyError\u001b[0m                                  Traceback (most recent call last)",
      "\u001b[1;32mc:\\Users\\Jay\\anaconda3\\lib\\site-packages\\pandas\\core\\indexes\\base.py\u001b[0m in \u001b[0;36mget_loc\u001b[1;34m(self, key, method, tolerance)\u001b[0m\n\u001b[0;32m   3628\u001b[0m             \u001b[1;32mtry\u001b[0m\u001b[1;33m:\u001b[0m\u001b[1;33m\u001b[0m\u001b[1;33m\u001b[0m\u001b[0m\n\u001b[1;32m-> 3629\u001b[1;33m                 \u001b[1;32mreturn\u001b[0m \u001b[0mself\u001b[0m\u001b[1;33m.\u001b[0m\u001b[0m_engine\u001b[0m\u001b[1;33m.\u001b[0m\u001b[0mget_loc\u001b[0m\u001b[1;33m(\u001b[0m\u001b[0mcasted_key\u001b[0m\u001b[1;33m)\u001b[0m\u001b[1;33m\u001b[0m\u001b[1;33m\u001b[0m\u001b[0m\n\u001b[0m\u001b[0;32m   3630\u001b[0m             \u001b[1;32mexcept\u001b[0m \u001b[0mKeyError\u001b[0m \u001b[1;32mas\u001b[0m \u001b[0merr\u001b[0m\u001b[1;33m:\u001b[0m\u001b[1;33m\u001b[0m\u001b[1;33m\u001b[0m\u001b[0m\n",
      "\u001b[1;32mc:\\Users\\Jay\\anaconda3\\lib\\site-packages\\pandas\\_libs\\index.pyx\u001b[0m in \u001b[0;36mpandas._libs.index.IndexEngine.get_loc\u001b[1;34m()\u001b[0m\n",
      "\u001b[1;32mc:\\Users\\Jay\\anaconda3\\lib\\site-packages\\pandas\\_libs\\index.pyx\u001b[0m in \u001b[0;36mpandas._libs.index.IndexEngine.get_loc\u001b[1;34m()\u001b[0m\n",
      "\u001b[1;32mc:\\Users\\Jay\\anaconda3\\lib\\site-packages\\pandas\\_libs\\index.pyx\u001b[0m in \u001b[0;36mpandas._libs.index.IndexEngine._get_loc_duplicates\u001b[1;34m()\u001b[0m\n",
      "\u001b[1;32mc:\\Users\\Jay\\anaconda3\\lib\\site-packages\\pandas\\_libs\\index.pyx\u001b[0m in \u001b[0;36mpandas._libs.index.IndexEngine._maybe_get_bool_indexer\u001b[1;34m()\u001b[0m\n",
      "\u001b[1;32mc:\\Users\\Jay\\anaconda3\\lib\\site-packages\\pandas\\_libs\\index.pyx\u001b[0m in \u001b[0;36mpandas._libs.index._unpack_bool_indexer\u001b[1;34m()\u001b[0m\n",
      "\u001b[1;31mKeyError\u001b[0m: 'E24619'",
      "\nThe above exception was the direct cause of the following exception:\n",
      "\u001b[1;31mKeyError\u001b[0m                                  Traceback (most recent call last)",
      "\u001b[1;32m~\\AppData\\Local\\Temp\\ipykernel_18192\\4268103451.py\u001b[0m in \u001b[0;36m<module>\u001b[1;34m\u001b[0m\n\u001b[0;32m      2\u001b[0m \u001b[1;32mfor\u001b[0m \u001b[0mi\u001b[0m \u001b[1;32min\u001b[0m \u001b[0mrange\u001b[0m\u001b[1;33m(\u001b[0m\u001b[0mlabel\u001b[0m\u001b[1;33m.\u001b[0m\u001b[0mshape\u001b[0m\u001b[1;33m[\u001b[0m\u001b[1;36m0\u001b[0m\u001b[1;33m]\u001b[0m\u001b[1;33m)\u001b[0m\u001b[1;33m:\u001b[0m\u001b[1;33m\u001b[0m\u001b[1;33m\u001b[0m\u001b[0m\n\u001b[0;32m      3\u001b[0m     \u001b[0mfocal_id\u001b[0m \u001b[1;33m=\u001b[0m \u001b[1;34m'E'\u001b[0m \u001b[1;33m+\u001b[0m \u001b[0mstr\u001b[0m\u001b[1;33m(\u001b[0m\u001b[0mint\u001b[0m\u001b[1;33m(\u001b[0m\u001b[0memp_id\u001b[0m\u001b[1;33m[\u001b[0m\u001b[0mi\u001b[0m\u001b[1;33m]\u001b[0m\u001b[1;33m)\u001b[0m\u001b[1;33m)\u001b[0m\u001b[1;33m\u001b[0m\u001b[1;33m\u001b[0m\u001b[0m\n\u001b[1;32m----> 4\u001b[1;33m     \u001b[0mtmp_ref\u001b[0m \u001b[1;33m=\u001b[0m \u001b[0mdf_helper\u001b[0m\u001b[1;33m.\u001b[0m\u001b[0mloc\u001b[0m\u001b[1;33m[\u001b[0m\u001b[0mfocal_id\u001b[0m\u001b[1;33m]\u001b[0m\u001b[1;33m\u001b[0m\u001b[1;33m\u001b[0m\u001b[0m\n\u001b[0m\u001b[0;32m      5\u001b[0m     \u001b[1;32mbreak\u001b[0m\u001b[1;33m\u001b[0m\u001b[1;33m\u001b[0m\u001b[0m\n",
      "\u001b[1;32mc:\\Users\\Jay\\anaconda3\\lib\\site-packages\\pandas\\core\\indexing.py\u001b[0m in \u001b[0;36m__getitem__\u001b[1;34m(self, key)\u001b[0m\n\u001b[0;32m    965\u001b[0m \u001b[1;33m\u001b[0m\u001b[0m\n\u001b[0;32m    966\u001b[0m             \u001b[0mmaybe_callable\u001b[0m \u001b[1;33m=\u001b[0m \u001b[0mcom\u001b[0m\u001b[1;33m.\u001b[0m\u001b[0mapply_if_callable\u001b[0m\u001b[1;33m(\u001b[0m\u001b[0mkey\u001b[0m\u001b[1;33m,\u001b[0m \u001b[0mself\u001b[0m\u001b[1;33m.\u001b[0m\u001b[0mobj\u001b[0m\u001b[1;33m)\u001b[0m\u001b[1;33m\u001b[0m\u001b[1;33m\u001b[0m\u001b[0m\n\u001b[1;32m--> 967\u001b[1;33m             \u001b[1;32mreturn\u001b[0m \u001b[0mself\u001b[0m\u001b[1;33m.\u001b[0m\u001b[0m_getitem_axis\u001b[0m\u001b[1;33m(\u001b[0m\u001b[0mmaybe_callable\u001b[0m\u001b[1;33m,\u001b[0m \u001b[0maxis\u001b[0m\u001b[1;33m=\u001b[0m\u001b[0maxis\u001b[0m\u001b[1;33m)\u001b[0m\u001b[1;33m\u001b[0m\u001b[1;33m\u001b[0m\u001b[0m\n\u001b[0m\u001b[0;32m    968\u001b[0m \u001b[1;33m\u001b[0m\u001b[0m\n\u001b[0;32m    969\u001b[0m     \u001b[1;32mdef\u001b[0m \u001b[0m_is_scalar_access\u001b[0m\u001b[1;33m(\u001b[0m\u001b[0mself\u001b[0m\u001b[1;33m,\u001b[0m \u001b[0mkey\u001b[0m\u001b[1;33m:\u001b[0m \u001b[0mtuple\u001b[0m\u001b[1;33m)\u001b[0m\u001b[1;33m:\u001b[0m\u001b[1;33m\u001b[0m\u001b[1;33m\u001b[0m\u001b[0m\n",
      "\u001b[1;32mc:\\Users\\Jay\\anaconda3\\lib\\site-packages\\pandas\\core\\indexing.py\u001b[0m in \u001b[0;36m_getitem_axis\u001b[1;34m(self, key, axis)\u001b[0m\n\u001b[0;32m   1203\u001b[0m         \u001b[1;31m# fall thru to straight lookup\u001b[0m\u001b[1;33m\u001b[0m\u001b[1;33m\u001b[0m\u001b[0m\n\u001b[0;32m   1204\u001b[0m         \u001b[0mself\u001b[0m\u001b[1;33m.\u001b[0m\u001b[0m_validate_key\u001b[0m\u001b[1;33m(\u001b[0m\u001b[0mkey\u001b[0m\u001b[1;33m,\u001b[0m \u001b[0maxis\u001b[0m\u001b[1;33m)\u001b[0m\u001b[1;33m\u001b[0m\u001b[1;33m\u001b[0m\u001b[0m\n\u001b[1;32m-> 1205\u001b[1;33m         \u001b[1;32mreturn\u001b[0m \u001b[0mself\u001b[0m\u001b[1;33m.\u001b[0m\u001b[0m_get_label\u001b[0m\u001b[1;33m(\u001b[0m\u001b[0mkey\u001b[0m\u001b[1;33m,\u001b[0m \u001b[0maxis\u001b[0m\u001b[1;33m=\u001b[0m\u001b[0maxis\u001b[0m\u001b[1;33m)\u001b[0m\u001b[1;33m\u001b[0m\u001b[1;33m\u001b[0m\u001b[0m\n\u001b[0m\u001b[0;32m   1206\u001b[0m \u001b[1;33m\u001b[0m\u001b[0m\n\u001b[0;32m   1207\u001b[0m     \u001b[1;32mdef\u001b[0m \u001b[0m_get_slice_axis\u001b[0m\u001b[1;33m(\u001b[0m\u001b[0mself\u001b[0m\u001b[1;33m,\u001b[0m \u001b[0mslice_obj\u001b[0m\u001b[1;33m:\u001b[0m \u001b[0mslice\u001b[0m\u001b[1;33m,\u001b[0m \u001b[0maxis\u001b[0m\u001b[1;33m:\u001b[0m \u001b[0mint\u001b[0m\u001b[1;33m)\u001b[0m\u001b[1;33m:\u001b[0m\u001b[1;33m\u001b[0m\u001b[1;33m\u001b[0m\u001b[0m\n",
      "\u001b[1;32mc:\\Users\\Jay\\anaconda3\\lib\\site-packages\\pandas\\core\\indexing.py\u001b[0m in \u001b[0;36m_get_label\u001b[1;34m(self, label, axis)\u001b[0m\n\u001b[0;32m   1151\u001b[0m     \u001b[1;32mdef\u001b[0m \u001b[0m_get_label\u001b[0m\u001b[1;33m(\u001b[0m\u001b[0mself\u001b[0m\u001b[1;33m,\u001b[0m \u001b[0mlabel\u001b[0m\u001b[1;33m,\u001b[0m \u001b[0maxis\u001b[0m\u001b[1;33m:\u001b[0m \u001b[0mint\u001b[0m\u001b[1;33m)\u001b[0m\u001b[1;33m:\u001b[0m\u001b[1;33m\u001b[0m\u001b[1;33m\u001b[0m\u001b[0m\n\u001b[0;32m   1152\u001b[0m         \u001b[1;31m# GH#5667 this will fail if the label is not present in the axis.\u001b[0m\u001b[1;33m\u001b[0m\u001b[1;33m\u001b[0m\u001b[0m\n\u001b[1;32m-> 1153\u001b[1;33m         \u001b[1;32mreturn\u001b[0m \u001b[0mself\u001b[0m\u001b[1;33m.\u001b[0m\u001b[0mobj\u001b[0m\u001b[1;33m.\u001b[0m\u001b[0mxs\u001b[0m\u001b[1;33m(\u001b[0m\u001b[0mlabel\u001b[0m\u001b[1;33m,\u001b[0m \u001b[0maxis\u001b[0m\u001b[1;33m=\u001b[0m\u001b[0maxis\u001b[0m\u001b[1;33m)\u001b[0m\u001b[1;33m\u001b[0m\u001b[1;33m\u001b[0m\u001b[0m\n\u001b[0m\u001b[0;32m   1154\u001b[0m \u001b[1;33m\u001b[0m\u001b[0m\n\u001b[0;32m   1155\u001b[0m     \u001b[1;32mdef\u001b[0m \u001b[0m_handle_lowerdim_multi_index_axis0\u001b[0m\u001b[1;33m(\u001b[0m\u001b[0mself\u001b[0m\u001b[1;33m,\u001b[0m \u001b[0mtup\u001b[0m\u001b[1;33m:\u001b[0m \u001b[0mtuple\u001b[0m\u001b[1;33m)\u001b[0m\u001b[1;33m:\u001b[0m\u001b[1;33m\u001b[0m\u001b[1;33m\u001b[0m\u001b[0m\n",
      "\u001b[1;32mc:\\Users\\Jay\\anaconda3\\lib\\site-packages\\pandas\\core\\generic.py\u001b[0m in \u001b[0;36mxs\u001b[1;34m(self, key, axis, level, drop_level)\u001b[0m\n\u001b[0;32m   3862\u001b[0m                     \u001b[0mnew_index\u001b[0m \u001b[1;33m=\u001b[0m \u001b[0mindex\u001b[0m\u001b[1;33m[\u001b[0m\u001b[0mloc\u001b[0m\u001b[1;33m]\u001b[0m\u001b[1;33m\u001b[0m\u001b[1;33m\u001b[0m\u001b[0m\n\u001b[0;32m   3863\u001b[0m         \u001b[1;32melse\u001b[0m\u001b[1;33m:\u001b[0m\u001b[1;33m\u001b[0m\u001b[1;33m\u001b[0m\u001b[0m\n\u001b[1;32m-> 3864\u001b[1;33m             \u001b[0mloc\u001b[0m \u001b[1;33m=\u001b[0m \u001b[0mindex\u001b[0m\u001b[1;33m.\u001b[0m\u001b[0mget_loc\u001b[0m\u001b[1;33m(\u001b[0m\u001b[0mkey\u001b[0m\u001b[1;33m)\u001b[0m\u001b[1;33m\u001b[0m\u001b[1;33m\u001b[0m\u001b[0m\n\u001b[0m\u001b[0;32m   3865\u001b[0m \u001b[1;33m\u001b[0m\u001b[0m\n\u001b[0;32m   3866\u001b[0m             \u001b[1;32mif\u001b[0m \u001b[0misinstance\u001b[0m\u001b[1;33m(\u001b[0m\u001b[0mloc\u001b[0m\u001b[1;33m,\u001b[0m \u001b[0mnp\u001b[0m\u001b[1;33m.\u001b[0m\u001b[0mndarray\u001b[0m\u001b[1;33m)\u001b[0m\u001b[1;33m:\u001b[0m\u001b[1;33m\u001b[0m\u001b[1;33m\u001b[0m\u001b[0m\n",
      "\u001b[1;32mc:\\Users\\Jay\\anaconda3\\lib\\site-packages\\pandas\\core\\indexes\\base.py\u001b[0m in \u001b[0;36mget_loc\u001b[1;34m(self, key, method, tolerance)\u001b[0m\n\u001b[0;32m   3629\u001b[0m                 \u001b[1;32mreturn\u001b[0m \u001b[0mself\u001b[0m\u001b[1;33m.\u001b[0m\u001b[0m_engine\u001b[0m\u001b[1;33m.\u001b[0m\u001b[0mget_loc\u001b[0m\u001b[1;33m(\u001b[0m\u001b[0mcasted_key\u001b[0m\u001b[1;33m)\u001b[0m\u001b[1;33m\u001b[0m\u001b[1;33m\u001b[0m\u001b[0m\n\u001b[0;32m   3630\u001b[0m             \u001b[1;32mexcept\u001b[0m \u001b[0mKeyError\u001b[0m \u001b[1;32mas\u001b[0m \u001b[0merr\u001b[0m\u001b[1;33m:\u001b[0m\u001b[1;33m\u001b[0m\u001b[1;33m\u001b[0m\u001b[0m\n\u001b[1;32m-> 3631\u001b[1;33m                 \u001b[1;32mraise\u001b[0m \u001b[0mKeyError\u001b[0m\u001b[1;33m(\u001b[0m\u001b[0mkey\u001b[0m\u001b[1;33m)\u001b[0m \u001b[1;32mfrom\u001b[0m \u001b[0merr\u001b[0m\u001b[1;33m\u001b[0m\u001b[1;33m\u001b[0m\u001b[0m\n\u001b[0m\u001b[0;32m   3632\u001b[0m             \u001b[1;32mexcept\u001b[0m \u001b[0mTypeError\u001b[0m\u001b[1;33m:\u001b[0m\u001b[1;33m\u001b[0m\u001b[1;33m\u001b[0m\u001b[0m\n\u001b[0;32m   3633\u001b[0m                 \u001b[1;31m# If we have a listlike key, _check_indexing_error will raise\u001b[0m\u001b[1;33m\u001b[0m\u001b[1;33m\u001b[0m\u001b[0m\n",
      "\u001b[1;31mKeyError\u001b[0m: 'E24619'"
     ]
    }
   ],
   "source": [
    "# for i, (emp_id, num_exp, end_yr, dur, div, t_emb, label) in enumerate(train_dataloader):\n",
    "for i in range(label.shape[0]):\n",
    "    focal_id = 'E' + str(int(emp_id[i]))\n",
    "    \n",
    "    tmp_ref = df_helper.loc[focal_id]\n",
    "    break"
   ]
  },
  {
   "cell_type": "code",
   "execution_count": 132,
   "metadata": {},
   "outputs": [
    {
     "data": {
      "text/html": [
       "<div>\n",
       "<style scoped>\n",
       "    .dataframe tbody tr th:only-of-type {\n",
       "        vertical-align: middle;\n",
       "    }\n",
       "\n",
       "    .dataframe tbody tr th {\n",
       "        vertical-align: top;\n",
       "    }\n",
       "\n",
       "    .dataframe thead th {\n",
       "        text-align: right;\n",
       "    }\n",
       "</style>\n",
       "<table border=\"1\" class=\"dataframe\">\n",
       "  <thead>\n",
       "    <tr style=\"text-align: right;\">\n",
       "      <th></th>\n",
       "      <th>Year</th>\n",
       "      <th>Reference</th>\n",
       "      <th>Start_Year</th>\n",
       "      <th>TargetTitle</th>\n",
       "      <th>BatchPos</th>\n",
       "    </tr>\n",
       "    <tr>\n",
       "      <th>Focal</th>\n",
       "      <th></th>\n",
       "      <th></th>\n",
       "      <th></th>\n",
       "      <th></th>\n",
       "      <th></th>\n",
       "    </tr>\n",
       "  </thead>\n",
       "  <tbody>\n",
       "    <tr>\n",
       "      <th>E13626</th>\n",
       "      <td>2009</td>\n",
       "      <td>E12512</td>\n",
       "      <td>2008</td>\n",
       "      <td>T191</td>\n",
       "      <td>73</td>\n",
       "    </tr>\n",
       "    <tr>\n",
       "      <th>E22178</th>\n",
       "      <td>2009</td>\n",
       "      <td>E12512</td>\n",
       "      <td>2008</td>\n",
       "      <td>T191</td>\n",
       "      <td>73</td>\n",
       "    </tr>\n",
       "    <tr>\n",
       "      <th>E13045</th>\n",
       "      <td>2010</td>\n",
       "      <td>E15118</td>\n",
       "      <td>2009</td>\n",
       "      <td>T191</td>\n",
       "      <td>79</td>\n",
       "    </tr>\n",
       "    <tr>\n",
       "      <th>E15106</th>\n",
       "      <td>2010</td>\n",
       "      <td>E11256</td>\n",
       "      <td>2009</td>\n",
       "      <td>T160</td>\n",
       "      <td>33</td>\n",
       "    </tr>\n",
       "    <tr>\n",
       "      <th>E15106</th>\n",
       "      <td>2010</td>\n",
       "      <td>E26760</td>\n",
       "      <td>2009</td>\n",
       "      <td>T3</td>\n",
       "      <td>19</td>\n",
       "    </tr>\n",
       "    <tr>\n",
       "      <th>...</th>\n",
       "      <td>...</td>\n",
       "      <td>...</td>\n",
       "      <td>...</td>\n",
       "      <td>...</td>\n",
       "      <td>...</td>\n",
       "    </tr>\n",
       "    <tr>\n",
       "      <th>E1030</th>\n",
       "      <td>2021</td>\n",
       "      <td>E4533</td>\n",
       "      <td>2019</td>\n",
       "      <td>T131</td>\n",
       "      <td>66</td>\n",
       "    </tr>\n",
       "    <tr>\n",
       "      <th>E11026</th>\n",
       "      <td>2021</td>\n",
       "      <td>E17947</td>\n",
       "      <td>2018</td>\n",
       "      <td>T156</td>\n",
       "      <td>69</td>\n",
       "    </tr>\n",
       "    <tr>\n",
       "      <th>E17070</th>\n",
       "      <td>2021</td>\n",
       "      <td>E4390</td>\n",
       "      <td>2020</td>\n",
       "      <td>T77</td>\n",
       "      <td>77</td>\n",
       "    </tr>\n",
       "    <tr>\n",
       "      <th>E19614</th>\n",
       "      <td>2021</td>\n",
       "      <td>E7757</td>\n",
       "      <td>2019</td>\n",
       "      <td>T73</td>\n",
       "      <td>76</td>\n",
       "    </tr>\n",
       "    <tr>\n",
       "      <th>E488</th>\n",
       "      <td>2021</td>\n",
       "      <td>E4390</td>\n",
       "      <td>2020</td>\n",
       "      <td>T77</td>\n",
       "      <td>77</td>\n",
       "    </tr>\n",
       "  </tbody>\n",
       "</table>\n",
       "<p>107 rows × 5 columns</p>\n",
       "</div>"
      ],
      "text/plain": [
       "        Year Reference  Start_Year TargetTitle  BatchPos\n",
       "Focal                                                   \n",
       "E13626  2009    E12512        2008        T191        73\n",
       "E22178  2009    E12512        2008        T191        73\n",
       "E13045  2010    E15118        2009        T191        79\n",
       "E15106  2010    E11256        2009        T160        33\n",
       "E15106  2010    E26760        2009          T3        19\n",
       "...      ...       ...         ...         ...       ...\n",
       "E1030   2021     E4533        2019        T131        66\n",
       "E11026  2021    E17947        2018        T156        69\n",
       "E17070  2021     E4390        2020         T77        77\n",
       "E19614  2021     E7757        2019         T73        76\n",
       "E488    2021     E4390        2020         T77        77\n",
       "\n",
       "[107 rows x 5 columns]"
      ]
     },
     "execution_count": 132,
     "metadata": {},
     "output_type": "execute_result"
    }
   ],
   "source": []
  },
  {
   "cell_type": "code",
   "execution_count": 133,
   "metadata": {},
   "outputs": [],
   "source": []
  },
  {
   "cell_type": "code",
   "execution_count": 135,
   "metadata": {},
   "outputs": [
    {
     "data": {
      "text/html": [
       "<div>\n",
       "<style scoped>\n",
       "    .dataframe tbody tr th:only-of-type {\n",
       "        vertical-align: middle;\n",
       "    }\n",
       "\n",
       "    .dataframe tbody tr th {\n",
       "        vertical-align: top;\n",
       "    }\n",
       "\n",
       "    .dataframe thead th {\n",
       "        text-align: right;\n",
       "    }\n",
       "</style>\n",
       "<table border=\"1\" class=\"dataframe\">\n",
       "  <thead>\n",
       "    <tr style=\"text-align: right;\">\n",
       "      <th></th>\n",
       "      <th>Year</th>\n",
       "      <th>Reference</th>\n",
       "      <th>Start_Year</th>\n",
       "      <th>TargetTitle</th>\n",
       "      <th>BatchPos</th>\n",
       "    </tr>\n",
       "    <tr>\n",
       "      <th>Focal</th>\n",
       "      <th></th>\n",
       "      <th></th>\n",
       "      <th></th>\n",
       "      <th></th>\n",
       "      <th></th>\n",
       "    </tr>\n",
       "  </thead>\n",
       "  <tbody>\n",
       "    <tr>\n",
       "      <th>E26591</th>\n",
       "      <td>2015</td>\n",
       "      <td>E11622</td>\n",
       "      <td>2011</td>\n",
       "      <td>T25</td>\n",
       "      <td>65</td>\n",
       "    </tr>\n",
       "    <tr>\n",
       "      <th>E26591</th>\n",
       "      <td>2015</td>\n",
       "      <td>E13626</td>\n",
       "      <td>2013</td>\n",
       "      <td>T291</td>\n",
       "      <td>62</td>\n",
       "    </tr>\n",
       "  </tbody>\n",
       "</table>\n",
       "</div>"
      ],
      "text/plain": [
       "        Year Reference  Start_Year TargetTitle  BatchPos\n",
       "Focal                                                   \n",
       "E26591  2015    E11622        2011         T25        65\n",
       "E26591  2015    E13626        2013        T291        62"
      ]
     },
     "execution_count": 135,
     "metadata": {},
     "output_type": "execute_result"
    }
   ],
   "source": [
    "tmp_ref"
   ]
  },
  {
   "cell_type": "code",
   "execution_count": 137,
   "metadata": {},
   "outputs": [
    {
     "data": {
      "text/plain": [
       "torch.Size([10, 384])"
      ]
     },
     "execution_count": 137,
     "metadata": {},
     "output_type": "execute_result"
    }
   ],
   "source": [
    "t_emb[65].shape"
   ]
  },
  {
   "cell_type": "code",
   "execution_count": 112,
   "metadata": {},
   "outputs": [
    {
     "data": {
      "text/html": [
       "<div>\n",
       "<style scoped>\n",
       "    .dataframe tbody tr th:only-of-type {\n",
       "        vertical-align: middle;\n",
       "    }\n",
       "\n",
       "    .dataframe tbody tr th {\n",
       "        vertical-align: top;\n",
       "    }\n",
       "\n",
       "    .dataframe thead th {\n",
       "        text-align: right;\n",
       "    }\n",
       "</style>\n",
       "<table border=\"1\" class=\"dataframe\">\n",
       "  <thead>\n",
       "    <tr style=\"text-align: right;\">\n",
       "      <th></th>\n",
       "      <th>Year</th>\n",
       "      <th>Focal</th>\n",
       "      <th>Reference</th>\n",
       "      <th>Start_Year</th>\n",
       "      <th>TargetTitle</th>\n",
       "    </tr>\n",
       "  </thead>\n",
       "  <tbody>\n",
       "    <tr>\n",
       "      <th>1942636</th>\n",
       "      <td>2015</td>\n",
       "      <td>E26591</td>\n",
       "      <td>E11622</td>\n",
       "      <td>2011</td>\n",
       "      <td>T25</td>\n",
       "    </tr>\n",
       "    <tr>\n",
       "      <th>1942647</th>\n",
       "      <td>2015</td>\n",
       "      <td>E26591</td>\n",
       "      <td>E13626</td>\n",
       "      <td>2013</td>\n",
       "      <td>T291</td>\n",
       "    </tr>\n",
       "  </tbody>\n",
       "</table>\n",
       "</div>"
      ],
      "text/plain": [
       "         Year   Focal Reference  Start_Year TargetTitle\n",
       "1942636  2015  E26591    E11622        2011         T25\n",
       "1942647  2015  E26591    E13626        2013        T291"
      ]
     },
     "execution_count": 112,
     "metadata": {},
     "output_type": "execute_result"
    }
   ],
   "source": [
    "tmp_ref"
   ]
  },
  {
   "cell_type": "code",
   "execution_count": null,
   "metadata": {},
   "outputs": [],
   "source": []
  }
 ],
 "metadata": {
  "kernelspec": {
   "display_name": "base",
   "language": "python",
   "name": "python3"
  },
  "language_info": {
   "codemirror_mode": {
    "name": "ipython",
    "version": 3
   },
   "file_extension": ".py",
   "mimetype": "text/x-python",
   "name": "python",
   "nbconvert_exporter": "python",
   "pygments_lexer": "ipython3",
   "version": "3.9.13"
  },
  "orig_nbformat": 4
 },
 "nbformat": 4,
 "nbformat_minor": 2
}
