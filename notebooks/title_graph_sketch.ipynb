{
 "cells": [
  {
   "cell_type": "code",
   "execution_count": 1,
   "metadata": {},
   "outputs": [],
   "source": [
    "import os\n",
    "import torch\n",
    "import json\n",
    "import warnings\n",
    "import networkx as nx\n",
    "import numpy as np\n",
    "import pandas as pd\n",
    "import matplotlib.pylab as plt\n",
    "from torch_geometric.data import Data\n",
    "from torch_geometric.nn import GCNConv\n",
    "from torch_geometric.datasets import KarateClub\n",
    "from torch_geometric.utils import to_dense_adj, to_networkx\n",
    "warnings.simplefilter('ignore')"
   ]
  },
  {
   "cell_type": "code",
   "execution_count": 4,
   "metadata": {},
   "outputs": [],
   "source": [
    "### load title name entity tags and short hand token\n",
    "IMPROT_FILE = 'validData_Reduced.csv'\n",
    "IMPORT_PATH = ''"
   ]
  },
  {
   "cell_type": "code",
   "execution_count": 15,
   "metadata": {},
   "outputs": [],
   "source": [
    "### import title/employee id dict\n",
    "with open(os.path.join(IMPORT_PATH, \"title_id_dict.json\"), \"r\") as openfile:\n",
    "    org_title_2_new_id = json.load(openfile)\n",
    "with open(os.path.join(IMPORT_PATH, \"employee_id_dict.json\"), \"r\") as openfile:\n",
    "    org_employee_id_2_new_id = json.load(openfile)"
   ]
  },
  {
   "cell_type": "code",
   "execution_count": 16,
   "metadata": {},
   "outputs": [],
   "source": [
    "### load title embedding\n",
    "np_title_emb = np.load(os.path.join(IMPORT_PATH, 'title_only_emb.npy'), allow_pickle=True)\n",
    "title_2_emb = {org_title_2_new_id[t] : e for t, e, in np_title_emb if t in org_title_2_new_id}\n",
    "z_raw = np.array([title_2_emb['T' + str(i)] for i in range(1, len(title_2_emb) + 1)])\n",
    "np.save(os.path.join(IMPORT_PATH, 'title_emb_matrix.npy') ,z_raw)"
   ]
  },
  {
   "cell_type": "code",
   "execution_count": 17,
   "metadata": {},
   "outputs": [
    {
     "data": {
      "text/html": [
       "<div>\n",
       "<style scoped>\n",
       "    .dataframe tbody tr th:only-of-type {\n",
       "        vertical-align: middle;\n",
       "    }\n",
       "\n",
       "    .dataframe tbody tr th {\n",
       "        vertical-align: top;\n",
       "    }\n",
       "\n",
       "    .dataframe thead th {\n",
       "        text-align: right;\n",
       "    }\n",
       "</style>\n",
       "<table border=\"1\" class=\"dataframe\">\n",
       "  <thead>\n",
       "    <tr style=\"text-align: right;\">\n",
       "      <th></th>\n",
       "      <th>ID</th>\n",
       "      <th>Firm</th>\n",
       "      <th>Title</th>\n",
       "      <th>Start_Date</th>\n",
       "      <th>End_Date</th>\n",
       "      <th>Title_Group</th>\n",
       "      <th>EDU</th>\n",
       "      <th>Duration</th>\n",
       "      <th>DiversityScore</th>\n",
       "      <th>YrsOfExp</th>\n",
       "      <th>sy</th>\n",
       "      <th>ey</th>\n",
       "      <th>EmployeeID</th>\n",
       "      <th>TitleID</th>\n",
       "    </tr>\n",
       "  </thead>\n",
       "  <tbody>\n",
       "    <tr>\n",
       "      <th>0</th>\n",
       "      <td>ACwAAA--S20BZncfI96Y51rtML5hkDoodwbFi-c,NAME_S...</td>\n",
       "      <td>Amazon</td>\n",
       "      <td>software engineer</td>\n",
       "      <td>2019-12-01</td>\n",
       "      <td>2021-10-01</td>\n",
       "      <td>software developer</td>\n",
       "      <td>computer science, computer engineering, electr...</td>\n",
       "      <td>2</td>\n",
       "      <td>0.000000</td>\n",
       "      <td>1.0</td>\n",
       "      <td>2019</td>\n",
       "      <td>2021</td>\n",
       "      <td>E1</td>\n",
       "      <td>T1</td>\n",
       "    </tr>\n",
       "    <tr>\n",
       "      <th>1</th>\n",
       "      <td>ACwAAA--zVABrailb54YsBsNL_ulhYNRVeX599Y,NAME_S...</td>\n",
       "      <td>Amazon</td>\n",
       "      <td>software engineer</td>\n",
       "      <td>2018-03-01</td>\n",
       "      <td>2019-03-01</td>\n",
       "      <td>software developer</td>\n",
       "      <td>computer science, computer engineering, electr...</td>\n",
       "      <td>1</td>\n",
       "      <td>0.000000</td>\n",
       "      <td>0.0</td>\n",
       "      <td>2018</td>\n",
       "      <td>2019</td>\n",
       "      <td>E2</td>\n",
       "      <td>T1</td>\n",
       "    </tr>\n",
       "    <tr>\n",
       "      <th>2</th>\n",
       "      <td>ACwAAA--zVABrailb54YsBsNL_ulhYNRVeX599Y,NAME_S...</td>\n",
       "      <td>JT4</td>\n",
       "      <td>technical analyst</td>\n",
       "      <td>2020-01-01</td>\n",
       "      <td>2020-07-01</td>\n",
       "      <td>it specialist</td>\n",
       "      <td>information technology</td>\n",
       "      <td>1</td>\n",
       "      <td>0.693147</td>\n",
       "      <td>1.0</td>\n",
       "      <td>2020</td>\n",
       "      <td>2020</td>\n",
       "      <td>E2</td>\n",
       "      <td>T2</td>\n",
       "    </tr>\n",
       "  </tbody>\n",
       "</table>\n",
       "</div>"
      ],
      "text/plain": [
       "                                                  ID    Firm  \\\n",
       "0  ACwAAA--S20BZncfI96Y51rtML5hkDoodwbFi-c,NAME_S...  Amazon   \n",
       "1  ACwAAA--zVABrailb54YsBsNL_ulhYNRVeX599Y,NAME_S...  Amazon   \n",
       "2  ACwAAA--zVABrailb54YsBsNL_ulhYNRVeX599Y,NAME_S...     JT4   \n",
       "\n",
       "               Title  Start_Date    End_Date         Title_Group  \\\n",
       "0  software engineer  2019-12-01  2021-10-01  software developer   \n",
       "1  software engineer  2018-03-01  2019-03-01  software developer   \n",
       "2  technical analyst  2020-01-01  2020-07-01       it specialist   \n",
       "\n",
       "                                                 EDU  Duration  \\\n",
       "0  computer science, computer engineering, electr...         2   \n",
       "1  computer science, computer engineering, electr...         1   \n",
       "2                             information technology         1   \n",
       "\n",
       "   DiversityScore  YrsOfExp    sy    ey EmployeeID TitleID  \n",
       "0        0.000000       1.0  2019  2021         E1      T1  \n",
       "1        0.000000       0.0  2018  2019         E2      T1  \n",
       "2        0.693147       1.0  2020  2020         E2      T2  "
      ]
     },
     "execution_count": 17,
     "metadata": {},
     "output_type": "execute_result"
    }
   ],
   "source": [
    "### import golden source\n",
    "df = pd.read_csv(os.path.join(IMPORT_PATH, IMPROT_FILE))\n",
    "df['sy'] = df['Start_Date'].apply(lambda x: int(x.split('-')[0]))\n",
    "df['ey'] = df['End_Date'].apply(lambda x: int(x.split('-')[0]))\n",
    "df.drop_duplicates(subset=['ID', 'ey'], keep='last', inplace=True)\n",
    "df.drop_duplicates(subset=['ID', 'sy'], keep='last', inplace=True)\n",
    "df['EmployeeID'] = df.ID.apply(lambda x: org_employee_id_2_new_id[x])\n",
    "df['TitleID'] = df.Title.apply(lambda x: org_title_2_new_id[x])\n",
    "df.head(3)"
   ]
  },
  {
   "cell_type": "code",
   "execution_count": 18,
   "metadata": {},
   "outputs": [],
   "source": [
    "# select yr = 2018\n",
    "yr = 2018\n",
    "df_yr = df[(df['sy']==yr)|(df['ey']==yr)]\n",
    "df_yr_ = df_yr.join(df_yr.groupby('ID')['TitleID'].shift(-1), rsuffix='1')\n",
    "df_yr_.rename({'TitleID1': 'transferTo'}, axis=1, inplace=True)\n",
    "df_valid = df_yr_[df_yr_['transferTo'].notnull()]"
   ]
  },
  {
   "cell_type": "code",
   "execution_count": 19,
   "metadata": {},
   "outputs": [],
   "source": [
    "# aggregate flows\n",
    "df_valid['pair'] = df_valid.apply(lambda x: ','.join(np.sort([x['TitleID'], x['transferTo']])), axis = 1)\n",
    "df_agg = df_valid.groupby([\"pair\"]).size().reset_index(name=\"Frequency\")\n",
    "df_agg[['From', 'To']] = df_agg['pair'].str.split(',', 1, expand=True)\n",
    "df_agg.drop(columns=['pair'], inplace=True)\n",
    "df_agg = df_agg[['From', 'To', 'Frequency']]\n",
    "df_agg = df_agg[df_agg['From'] != df_agg['To']]"
   ]
  },
  {
   "cell_type": "code",
   "execution_count": 241,
   "metadata": {},
   "outputs": [],
   "source": [
    "### create directed graph\n",
    "# raw title emb matrix\n",
    "x = torch.tensor(z_raw, dtype=torch.float)\n",
    "# edge index\n",
    "from_v = df_agg['From'].apply(lambda x: int(x.split('T')[1])-1).values\n",
    "to_v = df_agg['To'].apply(lambda x: int(x.split('T')[1])-1).values\n",
    "edge_index = torch.tensor(np.array([from_v, to_v]), dtype=torch.long)\n",
    "# edge attr\n",
    "edge_attr = torch.tensor(df_agg.Frequency.values.reshape(len(df_agg), 1), dtype=torch.float)\n",
    "# graph data\n",
    "data = Data(x=x, edge_attr=edge_attr, edge_index=edge_index.contiguous())"
   ]
  },
  {
   "cell_type": "code",
   "execution_count": 246,
   "metadata": {},
   "outputs": [],
   "source": [
    "torch.save(data, r'c:\\temp\\testDump.pt')"
   ]
  },
  {
   "cell_type": "code",
   "execution_count": 247,
   "metadata": {},
   "outputs": [],
   "source": [
    "data_ = torch.load(r'c:\\temp\\testDump.pt')"
   ]
  },
  {
   "cell_type": "code",
   "execution_count": 236,
   "metadata": {},
   "outputs": [],
   "source": [
    "# little module\n",
    "class GCN(torch.nn.Module):\n",
    "    \n",
    "    def __init__(self, num_features, hidden_dim, out_dim):\n",
    "        super().__init__()\n",
    "        self.gcn_l1 = GCNConv(num_features, hidden_dim, cached=True)\n",
    "        self.gcn_l2 = GCNConv(hidden_dim, out_dim, cached=True)\n",
    "        \n",
    "    def forward(self, x, edge_index, edge_weight):\n",
    "        h = self.gcn_l1(x, edge_index, edge_weight).relu()\n",
    "        o = self.gcn_l2(h, edge_index, edge_weight)\n",
    "        return o"
   ]
  },
  {
   "cell_type": "code",
   "execution_count": 248,
   "metadata": {},
   "outputs": [
    {
     "name": "stdout",
     "output_type": "stream",
     "text": [
      "GCN(\n",
      "  (gcn_l1): GCNConv(384, 128)\n",
      "  (gcn_l2): GCNConv(128, 64)\n",
      ")\n"
     ]
    }
   ],
   "source": [
    "# simulate one iteration\n",
    "model = GCN(x.shape[1], 128, 64)\n",
    "print(model)\n",
    "z = model(data.x, data.edge_index, data.edge_attr)\n",
    "z_ = model(data_.x, data_.edge_index, data_.edge_attr)"
   ]
  },
  {
   "cell_type": "code",
   "execution_count": null,
   "metadata": {},
   "outputs": [],
   "source": [
    "### MINI TEST"
   ]
  },
  {
   "cell_type": "code",
   "execution_count": 223,
   "metadata": {},
   "outputs": [],
   "source": [
    "### little graph\n",
    "x = torch.tensor([[-1, 0], [0, 0], [1, 0], [2, 0]], dtype=torch.float)\n",
    "edge_index = torch.tensor([[0, 1, 2], [1, 2, 1]], dtype=torch.long)\n",
    "edge_attr = torch.tensor([[3], [2], [3]], dtype=torch.float)\n",
    "data = Data(x=x, edge_attr=edge_attr, edge_index=edge_index.contiguous())"
   ]
  },
  {
   "cell_type": "code",
   "execution_count": 224,
   "metadata": {},
   "outputs": [
    {
     "data": {
      "text/plain": [
       "array([[0, 1, 0],\n",
       "       [0, 0, 1],\n",
       "       [0, 1, 0]])"
      ]
     },
     "execution_count": 224,
     "metadata": {},
     "output_type": "execute_result"
    }
   ],
   "source": [
    "### get adjacent matrix\n",
    "to_dense_adj(data.edge_index)[0].numpy().astype(int)"
   ]
  },
  {
   "cell_type": "code",
   "execution_count": 225,
   "metadata": {},
   "outputs": [],
   "source": [
    "### visualization\n",
    "# g = to_networkx(data, to_undirected=True)\n",
    "# plt.figure(figsize=(5, 5))\n",
    "# plt.axis('off')\n",
    "# nx.draw_networkx(g)\n",
    "# plt.show()"
   ]
  },
  {
   "cell_type": "code",
   "execution_count": 226,
   "metadata": {},
   "outputs": [
    {
     "name": "stdout",
     "output_type": "stream",
     "text": [
      "GCN(\n",
      "  (gcn): GCNConv(2, 3)\n",
      ")\n"
     ]
    }
   ],
   "source": [
    "# play around with model\n",
    "model = GCN(2, 3)\n",
    "print(model)\n",
    "z = model(data.x, data.edge_index, data.edge_attr)"
   ]
  },
  {
   "cell_type": "code",
   "execution_count": 16,
   "metadata": {},
   "outputs": [],
   "source": [
    "### load pyG data\n",
    "def loadPyGeoData(folder, path, file_name, post_fix = []):\n",
    "    path_ = os.path.join(folder, path)\n",
    "    if len(post_fix) == 0:\n",
    "        return torch.load(os.path.join(path_, file_name))\n",
    "    data_lst = []\n",
    "    for each in post_fix:\n",
    "        data_lst.append(torch.load(os.path.join(path_, file_name.format(each))))\n",
    "    return data_lst"
   ]
  },
  {
   "cell_type": "code",
   "execution_count": 17,
   "metadata": {},
   "outputs": [],
   "source": [
    "dataLst = loadPyGeoData(\n",
    "    IMPORT_PATH, \"TemporalGraphData\\TitleGraphs\", 'pyg_title_{}.pt', list(range(2008, 2023)))"
   ]
  },
  {
   "cell_type": "code",
   "execution_count": 20,
   "metadata": {},
   "outputs": [
    {
     "data": {
      "text/plain": [
       "tensor([[-0.0583,  0.0194,  0.0025,  ..., -0.0228,  0.0687,  0.0214],\n",
       "        [-0.0804,  0.0226, -0.0661,  ..., -0.0447,  0.0282, -0.0392],\n",
       "        [-0.0631, -0.0631, -0.0283,  ...,  0.0103, -0.0142,  0.0112],\n",
       "        ...,\n",
       "        [-0.0184,  0.0205, -0.0460,  ...,  0.0368, -0.0871, -0.0470],\n",
       "        [-0.0899, -0.0571, -0.0158,  ..., -0.0083,  0.0043, -0.0303],\n",
       "        [-0.1468, -0.0142,  0.0224,  ..., -0.0090, -0.0379, -0.0094]])"
      ]
     },
     "execution_count": 20,
     "metadata": {},
     "output_type": "execute_result"
    }
   ],
   "source": [
    "dataLst[0].x"
   ]
  },
  {
   "cell_type": "code",
   "execution_count": null,
   "metadata": {},
   "outputs": [],
   "source": []
  }
 ],
 "metadata": {
  "kernelspec": {
   "display_name": "base",
   "language": "python",
   "name": "python3"
  },
  "language_info": {
   "codemirror_mode": {
    "name": "ipython",
    "version": 3
   },
   "file_extension": ".py",
   "mimetype": "text/x-python",
   "name": "python",
   "nbconvert_exporter": "python",
   "pygments_lexer": "ipython3",
   "version": "3.9.13"
  },
  "orig_nbformat": 4,
  "vscode": {
   "interpreter": {
    "hash": "4da1ccf2217f7dea0e55844b0c50bc1c769c491bc5c498189b04b242d6beff07"
   }
  }
 },
 "nbformat": 4,
 "nbformat_minor": 2
}
